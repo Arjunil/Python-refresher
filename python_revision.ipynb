{
 "cells": [
  {
   "cell_type": "markdown",
   "metadata": {},
   "source": [
    "# Welcome to the python revision\n",
    "We will run through the official tutorial at https://docs.python.org/3.4/tutorial/introduction.html to brush up on our python skills.\n",
    "And maybe even work on differentiating 2 from 3. \n",
    "Unless otherwise specified all content found here will be in python 3."
   ]
  },
  {
   "cell_type": "code",
   "execution_count": 1,
   "metadata": {
    "collapsed": false
   },
   "outputs": [
    {
     "name": "stdout",
     "output_type": "stream",
     "text": [
      "1.6\n",
      "1\n"
     ]
    }
   ],
   "source": [
    "# Welcome to the math. Division does not explicitly need to be specified as float.\n",
    "\n",
    "print(8/5)\n",
    "\n",
    "# But integer division is still possible - floor division\n",
    "\n",
    "print(8//5)"
   ]
  },
  {
   "cell_type": "code",
   "execution_count": 2,
   "metadata": {
    "collapsed": false
   },
   "outputs": [
    {
     "data": {
      "text/plain": [
       "1024"
      ]
     },
     "execution_count": 2,
     "metadata": {},
     "output_type": "execute_result"
    }
   ],
   "source": [
    "# Powers come easy\n",
    "2**10"
   ]
  },
  {
   "cell_type": "code",
   "execution_count": 3,
   "metadata": {
    "collapsed": false
   },
   "outputs": [
    {
     "data": {
      "text/plain": [
       "200"
      ]
     },
     "execution_count": 3,
     "metadata": {},
     "output_type": "execute_result"
    }
   ],
   "source": [
    "p = 10\n",
    "q = 20\n",
    "p*q"
   ]
  },
  {
   "cell_type": "code",
   "execution_count": 4,
   "metadata": {
    "collapsed": false
   },
   "outputs": [
    {
     "data": {
      "text/plain": [
       "400"
      ]
     },
     "execution_count": 4,
     "metadata": {},
     "output_type": "execute_result"
    }
   ],
   "source": [
    "# Understand this little piece of magic. The last printed expression is assigned to the variable _\n",
    "\n",
    "_+_ # voila!"
   ]
  },
  {
   "cell_type": "code",
   "execution_count": 5,
   "metadata": {
    "collapsed": false
   },
   "outputs": [
    {
     "data": {
      "text/plain": [
       "(7+13j)"
      ]
     },
     "execution_count": 5,
     "metadata": {},
     "output_type": "execute_result"
    }
   ],
   "source": [
    "# Complex numbers?\n",
    "a = 3 + 5j\n",
    "b = 4 + 8j\n",
    "a+b"
   ]
  },
  {
   "cell_type": "markdown",
   "metadata": {},
   "source": [
    "### Types so far\n",
    "- int\n",
    "- float\n",
    "- complex (built in support)"
   ]
  },
  {
   "cell_type": "code",
   "execution_count": 6,
   "metadata": {
    "collapsed": false
   },
   "outputs": [
    {
     "name": "stdout",
     "output_type": "stream",
     "text": [
      "\"Hi there, python is cool!\", said everyone who ever used it.\n"
     ]
    }
   ],
   "source": [
    "# Strings anyone?\n",
    "string = '\\\"Hi there, python is cool!\\\", said everyone who ever used it.'\n",
    "print(string)"
   ]
  },
  {
   "cell_type": "code",
   "execution_count": 7,
   "metadata": {
    "collapsed": false
   },
   "outputs": [
    {
     "data": {
      "text/plain": [
       "'And if i wanted to i could say 2/2 is 1'"
      ]
     },
     "execution_count": 7,
     "metadata": {},
     "output_type": "execute_result"
    }
   ],
   "source": [
    "r'And if i wanted to i could say 2/2 is 1'\n",
    "# '/' can be used by using raw strings as above"
   ]
  },
  {
   "cell_type": "code",
   "execution_count": 8,
   "metadata": {
    "collapsed": false
   },
   "outputs": [
    {
     "name": "stdout",
     "output_type": "stream",
     "text": [
      "Doc strings\n",
      "work best\n",
      "this way\n"
     ]
    }
   ],
   "source": [
    "doc ='''Doc strings\n",
    "work best\n",
    "this way'''\n",
    "\n",
    "print(doc)"
   ]
  },
  {
   "cell_type": "code",
   "execution_count": 9,
   "metadata": {
    "collapsed": false
   },
   "outputs": [
    {
     "name": "stdout",
     "output_type": "stream",
     "text": [
      "concat works fine\n"
     ]
    }
   ],
   "source": [
    "# Concatenation is awesome\n",
    "space = ' '\n",
    "print('concat'+space+'works'+space+'fine')"
   ]
  },
  {
   "cell_type": "code",
   "execution_count": 10,
   "metadata": {
    "collapsed": false
   },
   "outputs": [
    {
     "data": {
      "text/plain": [
       "'unununium'"
      ]
     },
     "execution_count": 10,
     "metadata": {},
     "output_type": "execute_result"
    }
   ],
   "source": [
    "# String multiplication - whaa ?\n",
    "\n",
    "3*'un'+'ium'"
   ]
  },
  {
   "cell_type": "code",
   "execution_count": 11,
   "metadata": {
    "collapsed": false
   },
   "outputs": [
    {
     "data": {
      "text/plain": [
       "'PythonIsAwesome'"
      ]
     },
     "execution_count": 11,
     "metadata": {},
     "output_type": "execute_result"
    }
   ],
   "source": [
    "# Two or more string literals (i.e. the ones enclosed between quotes) next \n",
    "# to each other are automatically concatenated.\n",
    "\n",
    "'Py' 'thon' 'Is' 'Awesome'\n",
    "\n",
    "# This only works with two literals though, not with variables or expressions"
   ]
  },
  {
   "cell_type": "code",
   "execution_count": 12,
   "metadata": {
    "collapsed": false
   },
   "outputs": [
    {
     "name": "stdout",
     "output_type": "stream",
     "text": [
      "Full : Python\n",
      "Full : Python\n",
      "last letter : n\n",
      "reversal : nohtyP\n",
      "step two : Pto\n",
      "simple slice : Pyt\n",
      "on\n"
     ]
    }
   ],
   "source": [
    "word = 'Python'\n",
    "# String indexing is easy and cool and slicing is stunning\n",
    "\n",
    "print('Full :', word[:])\n",
    "print('Full :', word)\n",
    "print('last letter :', word[-1]) # reverse indexing\n",
    "print('reversal :', word[::-1]) # The idea is start, end(excluded), step\n",
    "print('step two :', word[::2])\n",
    "print('simple slice :', word[:3])\n",
    "print(word[-2:]) # -2 to end\n",
    "\n"
   ]
  },
  {
   "cell_type": "code",
   "execution_count": 13,
   "metadata": {
    "collapsed": false
   },
   "outputs": [
    {
     "name": "stdout",
     "output_type": "stream",
     "text": [
      "on Here\n",
      "There is nothing\n"
     ]
    }
   ],
   "source": [
    "# Out of range slice indexes are handled gracefully when used for slicing:\n",
    "\n",
    "print(word[4:42], 'Here')\n",
    "print(word[42:]+'There is nothing')\n"
   ]
  },
  {
   "cell_type": "markdown",
   "metadata": {},
   "source": [
    "### Strings are immutable\n",
    "#### Assignment to indices is not possible\n"
   ]
  },
  {
   "cell_type": "code",
   "execution_count": 14,
   "metadata": {
    "collapsed": false
   },
   "outputs": [
    {
     "data": {
      "text/plain": [
       "34"
      ]
     },
     "execution_count": 14,
     "metadata": {},
     "output_type": "execute_result"
    }
   ],
   "source": [
    "s = 'supercalifragilisticexpialidocious'\n",
    "len(s) # use len generously"
   ]
  },
  {
   "cell_type": "markdown",
   "metadata": {},
   "source": [
    "## Welcome to LISTS"
   ]
  },
  {
   "cell_type": "code",
   "execution_count": 15,
   "metadata": {
    "collapsed": false
   },
   "outputs": [
    {
     "name": "stdout",
     "output_type": "stream",
     "text": [
      "[1, 2, 3, 4, 5]\n",
      "[1, 4, 9, 16, 25]\n"
     ]
    }
   ],
   "source": [
    "numbers = [i for i in range(1,6)]\n",
    "print(numbers)\n",
    "squares = [i*i for i in numbers]\n",
    "print(squares)"
   ]
  },
  {
   "cell_type": "code",
   "execution_count": 16,
   "metadata": {
    "collapsed": false
   },
   "outputs": [
    {
     "name": "stdout",
     "output_type": "stream",
     "text": [
      "1\n",
      "new:  [1, 4, 9, 16, 25]\n",
      "new:  [1, 4, 9, 16, 25]\n",
      "old:  [0, 4, 9, 16, 25]\n",
      "squares:  [0, 4, 9, 16, 25]\n"
     ]
    }
   ],
   "source": [
    "# List indexing works as expected\n",
    "print(squares[0])\n",
    "\n",
    "# List slicing returns a newlist(shallow copy)\n",
    "old = squares\n",
    "new = squares[:]\n",
    "\n",
    "print('new: ', new)\n",
    "old[0] = 0\n",
    "print('new: ', new)\n",
    "print('old: ', old)\n",
    "print('squares: ', squares)"
   ]
  },
  {
   "cell_type": "code",
   "execution_count": 17,
   "metadata": {
    "collapsed": false
   },
   "outputs": [
    {
     "data": {
      "text/plain": [
       "[1, 4, 2, 3, 4]"
      ]
     },
     "execution_count": 17,
     "metadata": {},
     "output_type": "execute_result"
    }
   ],
   "source": [
    "new[2:5] = [2, 3, 4]\n",
    "new"
   ]
  },
  {
   "cell_type": "markdown",
   "metadata": {},
   "source": [
    "### More about lists\n",
    "- List concat works just like string concat\n",
    "- Lists are mutable\n",
    "- append, extend make life easier\n",
    "- assignments to slices is possible\n",
    "- len works here too\n",
    "- lists can be nested\n"
   ]
  },
  {
   "cell_type": "markdown",
   "metadata": {},
   "source": [
    "## Now into control flows - conditionals\n",
    "\n",
    "- if elif else\n",
    "- for\n",
    "- while\n",
    "- break \n",
    "- continue\n",
    "- pass\n"
   ]
  },
  {
   "cell_type": "code",
   "execution_count": 18,
   "metadata": {
    "collapsed": false
   },
   "outputs": [
    {
     "name": "stdout",
     "output_type": "stream",
     "text": [
      "Enter an int: 0\n",
      "abysmal\n"
     ]
    }
   ],
   "source": [
    "# Does input work here?\n",
    "x = int(input('Enter an int: '))\n",
    "if x > 10 :\n",
    "    print('sure - that totally matters')\n",
    "elif x > 5 :\n",
    "    print('could you be any less ambitious')\n",
    "else :\n",
    "    print('abysmal')\n",
    "    "
   ]
  },
  {
   "cell_type": "code",
   "execution_count": 19,
   "metadata": {
    "collapsed": false
   },
   "outputs": [
    {
     "name": "stdout",
     "output_type": "stream",
     "text": [
      "0\n",
      "1\n",
      "2\n",
      "3\n",
      "4\n",
      "5\n",
      "6\n",
      "7\n",
      "8\n",
      "9\n"
     ]
    }
   ],
   "source": [
    "# for loops\n",
    "numbers = range(10)\n",
    "for i in numbers:\n",
    "    print(i)"
   ]
  },
  {
   "cell_type": "code",
   "execution_count": 20,
   "metadata": {
    "collapsed": false
   },
   "outputs": [
    {
     "data": {
      "text/plain": [
       "['small', 'big', 'massive', 'enormous']"
      ]
     },
     "execution_count": 20,
     "metadata": {},
     "output_type": "execute_result"
    }
   ],
   "source": [
    "# Here's a funny piece - slice creates a copy so that things don't get\n",
    "# muddled during looping. WARNING - do not remove the slicing\n",
    "# if you do not heed the warning, deal with the consequences\n",
    "\n",
    "words = ['small', 'big', 'massive']\n",
    "for w in words[:]:\n",
    "    if len(w) > 5:\n",
    "        words.append('enormous')\n",
    "words"
   ]
  },
  {
   "cell_type": "code",
   "execution_count": 21,
   "metadata": {
    "collapsed": false
   },
   "outputs": [
    {
     "name": "stdout",
     "output_type": "stream",
     "text": [
      "[0, 2, 4, 6, 8, 10, 12, 14, 16, 18]\n"
     ]
    }
   ],
   "source": [
    "# range works with start, end and step again\n",
    "# Range is an object, an iterable - list creates lists from iterables,\n",
    "# for iterates over iterables\n",
    "print(list(range(0,20,2)))"
   ]
  },
  {
   "cell_type": "code",
   "execution_count": 22,
   "metadata": {
    "collapsed": false
   },
   "outputs": [
    {
     "name": "stdout",
     "output_type": "stream",
     "text": [
      "2 is a prime number\n",
      "3 is a prime number\n",
      "4 equals 2 * 2\n",
      "5 is a prime number\n",
      "6 equals 2 * 3\n",
      "7 is a prime number\n",
      "8 equals 2 * 4\n",
      "9 equals 3 * 3\n"
     ]
    }
   ],
   "source": [
    "# break, continue, pass are self explanatory\n",
    "# except 'for' can have 'else' O_O\n",
    "# It works like else in try i.e. when no break occurs\n",
    "# How cool is that!\n",
    "\n",
    "for n in range(2,10):\n",
    "    for x in range(2,n):\n",
    "        if n % x == 0:\n",
    "            print('%d equals %d * %d' %(n,x,n//x))\n",
    "            break\n",
    "    else:\n",
    "        print('%d is a prime number' %n)"
   ]
  },
  {
   "cell_type": "markdown",
   "metadata": {},
   "source": [
    "## Welcome to functions"
   ]
  },
  {
   "cell_type": "code",
   "execution_count": 23,
   "metadata": {
    "collapsed": false
   },
   "outputs": [
    {
     "name": "stdout",
     "output_type": "stream",
     "text": [
      "0 1 1 2 3 5 8 13 \n",
      "0\n",
      "1\n",
      "[0, 1, 1, 2, 3, 5, 8, 13, 21, 34, 55] 11\n",
      "55\n"
     ]
    }
   ],
   "source": [
    "\n",
    "def fibo(n):\n",
    "    '''n is the boundary here'''\n",
    "    a, b = 0, 1\n",
    "    while a<n:\n",
    "        print(a, end=' ')\n",
    "        a,b= b, a+b\n",
    "    print()\n",
    "    \n",
    "fibo(20)\n",
    "\n",
    "def fibo_optimized(n):\n",
    "    '''n is the number of terms here with n = 0 return 0 as the 0th term'''\n",
    "    fibo = [0,1]\n",
    "    if n < 2:\n",
    "        return fibo[n]\n",
    "    else:\n",
    "        for i in range(n-1):\n",
    "            fibo.append(fibo[i]+fibo[i+1])\n",
    "    print(fibo, len(fibo))\n",
    "    return fibo[n]\n",
    "\n",
    "# Also, rename functions like a boss\n",
    "\n",
    "g = fibo_optimized\n",
    "print(fibo_optimized(0))\n",
    "print(fibo_optimized(1))\n",
    "print(g(10))\n"
   ]
  },
  {
   "cell_type": "code",
   "execution_count": 26,
   "metadata": {
    "collapsed": false
   },
   "outputs": [
    {
     "name": "stdout",
     "output_type": "stream",
     "text": [
      "Do you really want to quit?N\n",
      "Yes or no, please!\n",
      "Do you really want to quit?NO\n",
      "Yes or no, please!\n",
      "Do you really want to quit?NO!!!!\n",
      "Yes or no, please!\n",
      "Do you really want to quit?no\n",
      "False\n",
      "Overwrite file?YES\n",
      "Yes or no, please!\n",
      "Overwrite file?Y\n",
      "Yes or no, please!\n",
      "Overwrite file?y\n",
      "True\n",
      "Overwrite file again?NOOO\n",
      "Only yes or no for Asimov's sake!\n",
      "Overwrite file again?Nein!\n",
      "Only yes or no for Asimov's sake!\n",
      "Overwrite file again?n\n",
      "False\n"
     ]
    }
   ],
   "source": [
    "# Default args? \n",
    "\n",
    "def ask_ok(prompt, retries=4, complaint='Yes or no, please!'):\n",
    "    while True:\n",
    "        ok = input(prompt)\n",
    "        if ok in ('y', 'ye', 'yes'):\n",
    "            return True\n",
    "        if ok in ('n', 'no', 'nop', 'nope'):\n",
    "            return False\n",
    "        retries = retries - 1\n",
    "        if retries < 0:\n",
    "            raise OSError('uncooperative user')\n",
    "        print(complaint)\n",
    "        \n",
    "print(ask_ok('Do you really want to quit?'))\n",
    "print(ask_ok('Overwrite file?',2))\n",
    "print(ask_ok('Overwrite file again?', 2 , \"Only yes or no for Asimov's sake!\"))"
   ]
  },
  {
   "cell_type": "code",
   "execution_count": 31,
   "metadata": {
    "collapsed": false
   },
   "outputs": [
    {
     "name": "stdout",
     "output_type": "stream",
     "text": [
      "The test_arg: a man\n",
      "The args\n",
      "1\n",
      "2\n",
      "3\n",
      "4\n",
      "5\n",
      "The key word args\n",
      "they : Third person plural\n",
      "me : Arjunil\n",
      "you : Second person\n"
     ]
    }
   ],
   "source": [
    "# Welcome the args and kwargs - variable length args and key word args\n",
    "# args go into a tuple\n",
    "# kwargs into dict\n",
    "\n",
    "def args_vs_kwargs(test_arg, *args, **kwargs) :\n",
    "    print('The test_arg:', test_arg)\n",
    "    print('The args')\n",
    "    for arg in args:\n",
    "        print(arg)\n",
    "    print('The key word args')\n",
    "    for key, val in kwargs.items():\n",
    "        print(key + ' : ' + val)\n",
    "        \n",
    "args_vs_kwargs('a man', 1,2,3,4,5, me='Arjunil', you='Second person', they='Third person plural')\n"
   ]
  },
  {
   "cell_type": "code",
   "execution_count": 36,
   "metadata": {
    "collapsed": false
   },
   "outputs": [
    {
     "name": "stdout",
     "output_type": "stream",
     "text": [
      "[3, 4, 5, 6, 7, 8, 9]\n"
     ]
    }
   ],
   "source": [
    "# Unpacking args ?\n",
    "\n",
    "args = [3,10]\n",
    "#range(args) # errors out\n",
    "\n",
    "print(list(range(*args))) # unpacks and hence works\n"
   ]
  },
  {
   "cell_type": "code",
   "execution_count": 39,
   "metadata": {
    "collapsed": false
   },
   "outputs": [
    {
     "name": "stdout",
     "output_type": "stream",
     "text": [
      "This parrot wouldn't VOOM if you put four million volts through it. E's bleedin' demised !\n"
     ]
    }
   ],
   "source": [
    "# Unpacking kwargs also works\n",
    "\n",
    "def parrot(voltage, action='voom', state='a stiff'):\n",
    "    print(\"This parrot wouldn't\", action, end=' ')\n",
    "    print(\"if you put\", voltage, \"volts through it.\", end=' ')\n",
    "    print(\"E's\", state, \"!\")\n",
    "d = {\"voltage\": \"four million\", \"state\": \"bleedin' demised\", \"action\": \"VOOM\"}\n",
    "parrot(**d)\n"
   ]
  },
  {
   "cell_type": "markdown",
   "metadata": {},
   "source": [
    "# Lambda expressions"
   ]
  },
  {
   "cell_type": "code",
   "execution_count": 2,
   "metadata": {
    "collapsed": false
   },
   "outputs": [
    {
     "data": {
      "text/plain": [
       "22"
      ]
     },
     "execution_count": 2,
     "metadata": {},
     "output_type": "execute_result"
    }
   ],
   "source": [
    "# Use case 1 - function object\n",
    "def increment_me_by(n):\n",
    "    return lambda x: x+n\n",
    "\n",
    "f = increment_me_by(10)\n",
    "f(12)"
   ]
  },
  {
   "cell_type": "code",
   "execution_count": 3,
   "metadata": {
    "collapsed": false
   },
   "outputs": [
    {
     "data": {
      "text/plain": [
       "[(4, 'four'), (1, 'one'), (3, 'three'), (2, 'two')]"
      ]
     },
     "execution_count": 3,
     "metadata": {},
     "output_type": "execute_result"
    }
   ],
   "source": [
    "# Case 2 - Small function\n",
    "\n",
    "pairs = [(1,'one'), (2,'two'), (3,'three'), (4, 'four')]\n",
    "\n",
    "pairs.sort(key = lambda pair: pair[1])\n",
    "\n",
    "pairs"
   ]
  },
  {
   "cell_type": "markdown",
   "metadata": {},
   "source": [
    "# Doc Strings"
   ]
  },
  {
   "cell_type": "code",
   "execution_count": 4,
   "metadata": {
    "collapsed": false
   },
   "outputs": [
    {
     "name": "stdout",
     "output_type": "stream",
     "text": [
      "Here's some documentation.\n",
      "    \n",
      "    Spanning multiple lines\n",
      "    \n"
     ]
    }
   ],
   "source": [
    "def fun():\n",
    "    '''Here's some documentation.\n",
    "    \n",
    "    Spanning multiple lines\n",
    "    '''\n",
    "    pass\n",
    "\n",
    "print(fun.__doc__)"
   ]
  },
  {
   "cell_type": "code",
   "execution_count": 5,
   "metadata": {
    "collapsed": false
   },
   "outputs": [
    {
     "data": {
      "text/plain": [
       "['__annotations__',\n",
       " '__call__',\n",
       " '__class__',\n",
       " '__closure__',\n",
       " '__code__',\n",
       " '__defaults__',\n",
       " '__delattr__',\n",
       " '__dict__',\n",
       " '__dir__',\n",
       " '__doc__',\n",
       " '__eq__',\n",
       " '__format__',\n",
       " '__ge__',\n",
       " '__get__',\n",
       " '__getattribute__',\n",
       " '__globals__',\n",
       " '__gt__',\n",
       " '__hash__',\n",
       " '__init__',\n",
       " '__kwdefaults__',\n",
       " '__le__',\n",
       " '__lt__',\n",
       " '__module__',\n",
       " '__name__',\n",
       " '__ne__',\n",
       " '__new__',\n",
       " '__qualname__',\n",
       " '__reduce__',\n",
       " '__reduce_ex__',\n",
       " '__repr__',\n",
       " '__setattr__',\n",
       " '__sizeof__',\n",
       " '__str__',\n",
       " '__subclasshook__']"
      ]
     },
     "execution_count": 5,
     "metadata": {},
     "output_type": "execute_result"
    }
   ],
   "source": [
    "# Also useful \n",
    "dir(fun)"
   ]
  },
  {
   "cell_type": "code",
   "execution_count": 7,
   "metadata": {
    "collapsed": false
   },
   "outputs": [
    {
     "name": "stdout",
     "output_type": "stream",
     "text": [
      "2 1\n",
      "1 2\n"
     ]
    }
   ],
   "source": [
    "# testing for call by value where the value is an object reference\n",
    "# THEREFORE, call by object reference\n",
    "# If mutable object - changes reflected\n",
    "\n",
    "def swap(one, two):\n",
    "    one, two = two, one\n",
    "    print(one, two)\n",
    "    \n",
    "a = 1\n",
    "b = 2\n",
    "\n",
    "swap(a,b)\n",
    "print(a,b)"
   ]
  },
  {
   "cell_type": "markdown",
   "metadata": {},
   "source": [
    "# coding guidelines\n",
    "\n",
    "- https://docs.python.org/3.4/tutorial/controlflow.html#id2\n",
    "- And PEP 8 of course\n",
    "- Zen https://www.python.org/dev/peps/pep-0020/\n"
   ]
  },
  {
   "cell_type": "markdown",
   "metadata": {},
   "source": [
    "# Data Structures"
   ]
  },
  {
   "cell_type": "markdown",
   "metadata": {},
   "source": [
    "## Lists\n",
    "- append(x)\n",
    "- extend(L)\n",
    "- insert(i,x)\n",
    "- remove(x)\n",
    "- pop([i])\n",
    "- clear() = del a[:]\n",
    "- index(x)- index of first item = x\n",
    "- count(x) - return number of times x appears in list\n",
    "- sort()\n",
    "- reverse()\n",
    "- copy() - shallow copy\n",
    "\n",
    "**Anything that modifies the list returns None**  \n",
    "  Applies to all mutable DS in python"
   ]
  },
  {
   "cell_type": "markdown",
   "metadata": {},
   "source": [
    "### Stack LIFO\n",
    "\n",
    "A list works fine as a stack with push being append and pop without an arg\n"
   ]
  },
  {
   "cell_type": "code",
   "execution_count": 14,
   "metadata": {
    "collapsed": false
   },
   "outputs": [
    {
     "name": "stdout",
     "output_type": "stream",
     "text": [
      "stack initially [0, 1, 2, 3, 4, 5, 6, 7, 8, 9]\n",
      "After appending: [0, 1, 2, 3, 4, 5, 6, 7, 8, 9, 10, 11]\n",
      "[0, 1, 2, 3, 4, 5, 6, 7, 8]\n"
     ]
    }
   ],
   "source": [
    "stack = list(range(10))\n",
    "print('stack initially', stack)\n",
    "stack.append(10)\n",
    "stack.append(11)\n",
    "print('After appending:', stack)\n",
    "stack.pop()\n",
    "stack.pop()\n",
    "stack.pop()\n",
    "\n",
    "print(stack)"
   ]
  },
  {
   "cell_type": "markdown",
   "metadata": {},
   "source": [
    "### Queue FIFO\n",
    "\n",
    "lists are not effieicnt for queue implementation - insert and pops from beginnings are expensive since all elements need to be moved\n"
   ]
  },
  {
   "cell_type": "code",
   "execution_count": 15,
   "metadata": {
    "collapsed": false
   },
   "outputs": [
    {
     "name": "stdout",
     "output_type": "stream",
     "text": [
      "deque(['Eric', 'John', 'Michael', 'Arjunil'])\n",
      "deque(['John', 'Michael', 'Arjunil'])\n"
     ]
    }
   ],
   "source": [
    "# queues\n",
    "\n",
    "from collections import deque\n",
    "queue = deque(['Eric', 'John', 'Michael'])\n",
    "\n",
    "queue.append('Arjunil')\n",
    "print(queue)\n",
    "queue.popleft()\n",
    "print(queue)"
   ]
  },
  {
   "cell_type": "markdown",
   "metadata": {},
   "source": [
    "### List Comprehension - let's get pythonic"
   ]
  },
  {
   "cell_type": "code",
   "execution_count": 17,
   "metadata": {
    "collapsed": false
   },
   "outputs": [
    {
     "data": {
      "text/plain": [
       "[0, 1, 4, 9, 16, 25, 36, 49, 64, 81]"
      ]
     },
     "execution_count": 17,
     "metadata": {},
     "output_type": "execute_result"
    }
   ],
   "source": [
    "squares = list(map(lambda x: x*x, range(10)))\n",
    "squares"
   ]
  },
  {
   "cell_type": "code",
   "execution_count": 20,
   "metadata": {
    "collapsed": false
   },
   "outputs": [
    {
     "data": {
      "text/plain": [
       "[0, 1, 4, 9, 16, 25, 36, 49, 64, 81]"
      ]
     },
     "execution_count": 20,
     "metadata": {},
     "output_type": "execute_result"
    }
   ],
   "source": [
    "square_2 = [x*x for x in range(10)]\n",
    "square_2"
   ]
  },
  {
   "cell_type": "markdown",
   "metadata": {},
   "source": [
    "List comprehensions have a structure as below\n",
    "1. Brackets\n",
    "2. expression\n",
    "3. for - one or more\n",
    "4. if clause - 0 or more\n",
    "\n",
    "Basically - the order is what you would expect when doing the entire operation in a non-pythonic way"
   ]
  },
  {
   "cell_type": "code",
   "execution_count": 24,
   "metadata": {
    "collapsed": false
   },
   "outputs": [
    {
     "data": {
      "text/plain": [
       "[(1, 2), (1, 3), (2, 1), (2, 3), (3, 1), (3, 2)]"
      ]
     },
     "execution_count": 24,
     "metadata": {},
     "output_type": "execute_result"
    }
   ],
   "source": [
    "# here's an example\n",
    "\n",
    "combs = [(x,y) for x in range(1,4) for y in range(1,4) if x!=y]\n",
    "combs"
   ]
  },
  {
   "cell_type": "code",
   "execution_count": 30,
   "metadata": {
    "collapsed": false
   },
   "outputs": [
    {
     "name": "stdout",
     "output_type": "stream",
     "text": [
      "[-8, -4, 0, 4, 8]\n",
      "[0, 2, 4]\n",
      "[4, 2, 0, 2, 4]\n",
      "['banana', 'loganberry', 'passion fruit']\n",
      "[(0, 0), (1, 1), (2, 4), (3, 9), (4, 16), (5, 25)]\n"
     ]
    }
   ],
   "source": [
    "vec = [-4, -2, 0, 2, 4]\n",
    "# create a new list with the values doubled\n",
    "print([x*2 for x in vec])\n",
    "# filter the list to exclude negative numbers\n",
    "print([x for x in vec if x >= 0])\n",
    "# apply a function to all the elements\n",
    "print([abs(x) for x in vec])\n",
    "# call a method on each element\n",
    "freshfruit = ['  banana', '  loganberry ', 'passion fruit  ']\n",
    "print([weapon.strip() for weapon in freshfruit])\n",
    "# create a list of 2-tuples like (number, square)\n",
    "print([(x, x**2) for x in range(6)])\n"
   ]
  },
  {
   "cell_type": "code",
   "execution_count": 37,
   "metadata": {
    "collapsed": false
   },
   "outputs": [
    {
     "data": {
      "text/plain": [
       "[[1, 5, 9], [2, 6, 10], [3, 7, 11], [4, 8, 12]]"
      ]
     },
     "execution_count": 37,
     "metadata": {},
     "output_type": "execute_result"
    }
   ],
   "source": [
    "# Said expression in list comprehension can be anything including nested functions\n",
    "# to the extent that it can be a list comprehension!\n",
    "# Yes. Nested. List. Comprehensions.\n",
    "# Total chaos\n",
    "\n",
    "matrix = [[1,2,3,4],[5,6,7,8], [9,10,11,12]]\n",
    "\n",
    "transpose = [[row[i] for row in matrix] for i in range(4) ]\n",
    "transpose\n"
   ]
  },
  {
   "cell_type": "code",
   "execution_count": 42,
   "metadata": {
    "collapsed": false
   },
   "outputs": [
    {
     "name": "stdout",
     "output_type": "stream",
     "text": [
      "[(0, 5), (1, 6), (2, 7), (3, 8), (4, 9)]\n"
     ]
    },
    {
     "data": {
      "text/plain": [
       "[(1, 5, 9), (2, 6, 10), (3, 7, 11), (4, 8, 12)]"
      ]
     },
     "execution_count": 42,
     "metadata": {},
     "output_type": "execute_result"
    }
   ],
   "source": [
    "# But lets not even try when this does the same\n",
    "#print(*matrix)\n",
    "#print(list(zip([a for a in range(5)], [b for b in range(5,10)])))\n",
    "\n",
    "\n",
    "list(zip(*matrix))"
   ]
  },
  {
   "cell_type": "markdown",
   "metadata": {},
   "source": [
    "#### del statement"
   ]
  },
  {
   "cell_type": "code",
   "execution_count": 44,
   "metadata": {
    "collapsed": false
   },
   "outputs": [
    {
     "name": "stdout",
     "output_type": "stream",
     "text": [
      "[-4, -3, -2, -1, 0, 1, 2, 3]\n",
      "[0, 1, 2, 3]\n",
      "[]\n"
     ]
    }
   ],
   "source": [
    "a = list(range(-4,4))\n",
    "print(a)\n",
    "del a[:4]\n",
    "print(a)\n",
    "del a[:]\n",
    "print(a)"
   ]
  },
  {
   "cell_type": "code",
   "execution_count": 45,
   "metadata": {
    "collapsed": false
   },
   "outputs": [
    {
     "name": "stdout",
     "output_type": "stream",
     "text": [
      "10\n"
     ]
    },
    {
     "ename": "NameError",
     "evalue": "name 'a' is not defined",
     "output_type": "error",
     "traceback": [
      "\u001b[1;31m---------------------------------------------------------------------------\u001b[0m",
      "\u001b[1;31mNameError\u001b[0m                                 Traceback (most recent call last)",
      "\u001b[1;32m<ipython-input-45-1e8d600768bb>\u001b[0m in \u001b[0;36m<module>\u001b[1;34m()\u001b[0m\n\u001b[0;32m      3\u001b[0m \u001b[0mprint\u001b[0m\u001b[1;33m(\u001b[0m\u001b[0ma\u001b[0m\u001b[1;33m)\u001b[0m\u001b[1;33m\u001b[0m\u001b[0m\n\u001b[0;32m      4\u001b[0m \u001b[1;32mdel\u001b[0m \u001b[0ma\u001b[0m\u001b[1;33m\u001b[0m\u001b[0m\n\u001b[1;32m----> 5\u001b[1;33m \u001b[0mprint\u001b[0m\u001b[1;33m(\u001b[0m\u001b[0ma\u001b[0m\u001b[1;33m)\u001b[0m\u001b[1;33m\u001b[0m\u001b[0m\n\u001b[0m",
      "\u001b[1;31mNameError\u001b[0m: name 'a' is not defined"
     ]
    }
   ],
   "source": [
    "# also removes variables\n",
    "a = 10\n",
    "print(a)\n",
    "del a\n",
    "print(a)"
   ]
  },
  {
   "cell_type": "markdown",
   "metadata": {},
   "source": [
    "### Tuples and Sequences\n",
    "\n",
    "Tuples are immutable"
   ]
  },
  {
   "cell_type": "code",
   "execution_count": 47,
   "metadata": {
    "collapsed": false
   },
   "outputs": [
    {
     "data": {
      "text/plain": [
       "tuple"
      ]
     },
     "execution_count": 47,
     "metadata": {},
     "output_type": "execute_result"
    }
   ],
   "source": [
    "empty = ()\n",
    "type(empty)"
   ]
  },
  {
   "cell_type": "code",
   "execution_count": 48,
   "metadata": {
    "collapsed": false
   },
   "outputs": [
    {
     "data": {
      "text/plain": [
       "tuple"
      ]
     },
     "execution_count": 48,
     "metadata": {},
     "output_type": "execute_result"
    }
   ],
   "source": [
    "tup = 'hello',\n",
    "type(tup)"
   ]
  },
  {
   "cell_type": "code",
   "execution_count": 50,
   "metadata": {
    "collapsed": false
   },
   "outputs": [
    {
     "name": "stdout",
     "output_type": "stream",
     "text": [
      "1 2 3 4 (1, 2, 3, 4)\n"
     ]
    },
    {
     "data": {
      "text/plain": [
       "(2, 1)"
      ]
     },
     "execution_count": 50,
     "metadata": {},
     "output_type": "execute_result"
    }
   ],
   "source": [
    "# multiple assignment is a combination of tuple packing and sequence unpacking\n",
    "\n",
    "t = 1,2,3,4 # tuple packing\n",
    "a,b,c,d = t # sequence unpacking\n",
    "print(a, b,c,d, t)\n",
    "\n",
    "a,b = b, a\n",
    "a,b"
   ]
  },
  {
   "cell_type": "markdown",
   "metadata": {},
   "source": [
    "### Sets\n",
    "\n",
    "- created by set func or non empty braces\n",
    "- unordered collection\n",
    "- no dupes\n",
    "- set operations supported"
   ]
  },
  {
   "cell_type": "code",
   "execution_count": 52,
   "metadata": {
    "collapsed": false
   },
   "outputs": [
    {
     "name": "stdout",
     "output_type": "stream",
     "text": [
      "{'a', 'c', 'r', 'b', 'd'} {'k', 'a', 'z', 'l', 'm'}\n"
     ]
    }
   ],
   "source": [
    "a = set('abracadabra')\n",
    "b = set('alakazam')\n",
    "print(a, b)"
   ]
  },
  {
   "cell_type": "code",
   "execution_count": 53,
   "metadata": {
    "collapsed": false
   },
   "outputs": [
    {
     "data": {
      "text/plain": [
       "{'b', 'c', 'd', 'r'}"
      ]
     },
     "execution_count": 53,
     "metadata": {},
     "output_type": "execute_result"
    }
   ],
   "source": [
    "a-b"
   ]
  },
  {
   "cell_type": "code",
   "execution_count": 55,
   "metadata": {
    "collapsed": false
   },
   "outputs": [
    {
     "data": {
      "text/plain": [
       "{'a'}"
      ]
     },
     "execution_count": 55,
     "metadata": {},
     "output_type": "execute_result"
    }
   ],
   "source": [
    "a&b"
   ]
  },
  {
   "cell_type": "code",
   "execution_count": 56,
   "metadata": {
    "collapsed": false
   },
   "outputs": [
    {
     "data": {
      "text/plain": [
       "{'a', 'b', 'c', 'd', 'k', 'l', 'm', 'r', 'z'}"
      ]
     },
     "execution_count": 56,
     "metadata": {},
     "output_type": "execute_result"
    }
   ],
   "source": [
    "a|b"
   ]
  },
  {
   "cell_type": "code",
   "execution_count": 57,
   "metadata": {
    "collapsed": false
   },
   "outputs": [
    {
     "data": {
      "text/plain": [
       "{'b', 'c', 'd', 'k', 'l', 'm', 'r', 'z'}"
      ]
     },
     "execution_count": 57,
     "metadata": {},
     "output_type": "execute_result"
    }
   ],
   "source": [
    "a^b"
   ]
  },
  {
   "cell_type": "markdown",
   "metadata": {},
   "source": [
    "#### And set comprehensions?!"
   ]
  },
  {
   "cell_type": "code",
   "execution_count": 58,
   "metadata": {
    "collapsed": false
   },
   "outputs": [
    {
     "data": {
      "text/plain": [
       "{'d', 'r'}"
      ]
     },
     "execution_count": 58,
     "metadata": {},
     "output_type": "execute_result"
    }
   ],
   "source": [
    "{x for x in 'abracadabra' if x not in 'abc'}"
   ]
  },
  {
   "cell_type": "markdown",
   "metadata": {},
   "source": [
    "### Dictionaries\n",
    "\n",
    "- keys are immutable - hence only immutable stuff can be used as key\n",
    "- unordered\n",
    "- {} empty dict\n"
   ]
  },
  {
   "cell_type": "code",
   "execution_count": 59,
   "metadata": {
    "collapsed": false
   },
   "outputs": [
    {
     "data": {
      "text/plain": [
       "{1: 'aragorn', 2: 'legolas', 3: 'gimli'}"
      ]
     },
     "execution_count": 59,
     "metadata": {},
     "output_type": "execute_result"
    }
   ],
   "source": [
    "d = {1: 'aragorn', 2: 'legolas', 3: 'gimli'}\n",
    "d"
   ]
  },
  {
   "cell_type": "code",
   "execution_count": 62,
   "metadata": {
    "collapsed": false
   },
   "outputs": [
    {
     "data": {
      "text/plain": [
       "['aragorn', 'gimli', 'legolas']"
      ]
     },
     "execution_count": 62,
     "metadata": {},
     "output_type": "execute_result"
    }
   ],
   "source": [
    "sorted(d.values())"
   ]
  },
  {
   "cell_type": "code",
   "execution_count": 63,
   "metadata": {
    "collapsed": false
   },
   "outputs": [
    {
     "data": {
      "text/plain": [
       "True"
      ]
     },
     "execution_count": 63,
     "metadata": {},
     "output_type": "execute_result"
    }
   ],
   "source": [
    "1 in d.keys()"
   ]
  },
  {
   "cell_type": "code",
   "execution_count": 64,
   "metadata": {
    "collapsed": false
   },
   "outputs": [
    {
     "data": {
      "text/plain": [
       "False"
      ]
     },
     "execution_count": 64,
     "metadata": {},
     "output_type": "execute_result"
    }
   ],
   "source": [
    "10 in d.keys()"
   ]
  },
  {
   "cell_type": "code",
   "execution_count": 65,
   "metadata": {
    "collapsed": false
   },
   "outputs": [
    {
     "data": {
      "text/plain": [
       "{0: 0, 1: 1, 2: 8, 3: 27, 4: 64, 5: 125}"
      ]
     },
     "execution_count": 65,
     "metadata": {},
     "output_type": "execute_result"
    }
   ],
   "source": [
    "# Dict comprehensions too\n",
    "\n",
    "{x:x**3 for x in range(6)}"
   ]
  },
  {
   "cell_type": "code",
   "execution_count": 67,
   "metadata": {
    "collapsed": false
   },
   "outputs": [
    {
     "data": {
      "text/plain": [
       "{'aragorn': 1, 'gimli': 3, 'legolas': 2}"
      ]
     },
     "execution_count": 67,
     "metadata": {},
     "output_type": "execute_result"
    }
   ],
   "source": [
    "# Also this - when keys are strings\n",
    "\n",
    "lotr = dict(aragorn=1, legolas=2, gimli=3)\n",
    "lotr"
   ]
  },
  {
   "cell_type": "markdown",
   "metadata": {},
   "source": [
    "### Looping techniques"
   ]
  },
  {
   "cell_type": "code",
   "execution_count": 69,
   "metadata": {
    "collapsed": false
   },
   "outputs": [
    {
     "name": "stdout",
     "output_type": "stream",
     "text": [
      "aragorn was number 1\n",
      "legolas was number 2\n",
      "gimli was number 3\n"
     ]
    }
   ],
   "source": [
    "# items method for dict\n",
    "\n",
    "for entity, rank in lotr.items():\n",
    "    print(entity, 'was number', rank)"
   ]
  },
  {
   "cell_type": "code",
   "execution_count": 70,
   "metadata": {
    "collapsed": false
   },
   "outputs": [
    {
     "name": "stdout",
     "output_type": "stream",
     "text": [
      "a is 1\n",
      "b is 2\n",
      "c is 3\n"
     ]
    }
   ],
   "source": [
    "# enumerate for index and val\n",
    "\n",
    "for i, alphabet in enumerate(['a','b','c']):\n",
    "    print(alphabet, 'is', i+1)"
   ]
  },
  {
   "cell_type": "code",
   "execution_count": null,
   "metadata": {
    "collapsed": true
   },
   "outputs": [],
   "source": [
    "# loop over multiple sequences at a time using zip\n",
    "\n"
   ]
  }
 ],
 "metadata": {
  "kernelspec": {
   "display_name": "Python 3",
   "language": "python",
   "name": "python3"
  },
  "language_info": {
   "codemirror_mode": {
    "name": "ipython",
    "version": 3
   },
   "file_extension": ".py",
   "mimetype": "text/x-python",
   "name": "python",
   "nbconvert_exporter": "python",
   "pygments_lexer": "ipython3",
   "version": "3.5.1"
  }
 },
 "nbformat": 4,
 "nbformat_minor": 0
}
