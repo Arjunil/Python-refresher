{
 "cells": [
  {
   "cell_type": "markdown",
   "metadata": {},
   "source": [
    "# Welcome to the python revision\n",
    "We will run through the official tutorial at https://docs.python.org/3.4/tutorial/introduction.html to brush up on our python skills.\n",
    "And maybe even work on differentiating 2 from 3. \n",
    "Unless otherwise specified all content found here will be in python 3."
   ]
  },
  {
   "cell_type": "code",
   "execution_count": 1,
   "metadata": {
    "collapsed": false
   },
   "outputs": [
    {
     "name": "stdout",
     "output_type": "stream",
     "text": [
      "1.6\n",
      "1\n"
     ]
    }
   ],
   "source": [
    "# Welcome to the math. Division does not explicitly need to be specified as float.\n",
    "\n",
    "print(8/5)\n",
    "\n",
    "# But integer division is still possible - floor division\n",
    "\n",
    "print(8//5)"
   ]
  },
  {
   "cell_type": "code",
   "execution_count": 2,
   "metadata": {
    "collapsed": false
   },
   "outputs": [
    {
     "data": {
      "text/plain": [
       "1024"
      ]
     },
     "execution_count": 2,
     "metadata": {},
     "output_type": "execute_result"
    }
   ],
   "source": [
    "# Powers come easy\n",
    "2**10"
   ]
  },
  {
   "cell_type": "code",
   "execution_count": 3,
   "metadata": {
    "collapsed": false
   },
   "outputs": [
    {
     "data": {
      "text/plain": [
       "200"
      ]
     },
     "execution_count": 3,
     "metadata": {},
     "output_type": "execute_result"
    }
   ],
   "source": [
    "p = 10\n",
    "q = 20\n",
    "p*q"
   ]
  },
  {
   "cell_type": "code",
   "execution_count": 4,
   "metadata": {
    "collapsed": false
   },
   "outputs": [
    {
     "data": {
      "text/plain": [
       "400"
      ]
     },
     "execution_count": 4,
     "metadata": {},
     "output_type": "execute_result"
    }
   ],
   "source": [
    "# Understand this little piece of magic. The last printed expression is assigned to the variable _\n",
    "\n",
    "_+_ # voila!"
   ]
  },
  {
   "cell_type": "code",
   "execution_count": 5,
   "metadata": {
    "collapsed": false
   },
   "outputs": [
    {
     "data": {
      "text/plain": [
       "(7+13j)"
      ]
     },
     "execution_count": 5,
     "metadata": {},
     "output_type": "execute_result"
    }
   ],
   "source": [
    "# Complex numbers?\n",
    "a = 3 + 5j\n",
    "b = 4 + 8j\n",
    "a+b"
   ]
  },
  {
   "cell_type": "markdown",
   "metadata": {},
   "source": [
    "### Types so far\n",
    "- int\n",
    "- float\n",
    "- complex (built in support)"
   ]
  },
  {
   "cell_type": "code",
   "execution_count": 6,
   "metadata": {
    "collapsed": false
   },
   "outputs": [
    {
     "name": "stdout",
     "output_type": "stream",
     "text": [
      "\"Hi there, python is cool!\", said everyone who ever used it.\n"
     ]
    }
   ],
   "source": [
    "# Strings anyone?\n",
    "string = '\\\"Hi there, python is cool!\\\", said everyone who ever used it.'\n",
    "print(string)"
   ]
  },
  {
   "cell_type": "code",
   "execution_count": 7,
   "metadata": {
    "collapsed": false
   },
   "outputs": [
    {
     "data": {
      "text/plain": [
       "'And if i wanted to i could say 2/2 is 1'"
      ]
     },
     "execution_count": 7,
     "metadata": {},
     "output_type": "execute_result"
    }
   ],
   "source": [
    "r'And if i wanted to i could say 2/2 is 1'\n",
    "# '/' can be used by using raw strings as above"
   ]
  },
  {
   "cell_type": "code",
   "execution_count": 8,
   "metadata": {
    "collapsed": false
   },
   "outputs": [
    {
     "name": "stdout",
     "output_type": "stream",
     "text": [
      "Doc strings\n",
      "work best\n",
      "this way\n"
     ]
    }
   ],
   "source": [
    "doc ='''Doc strings\n",
    "work best\n",
    "this way'''\n",
    "\n",
    "print(doc)"
   ]
  },
  {
   "cell_type": "code",
   "execution_count": 9,
   "metadata": {
    "collapsed": false
   },
   "outputs": [
    {
     "name": "stdout",
     "output_type": "stream",
     "text": [
      "concat works fine\n"
     ]
    }
   ],
   "source": [
    "# Concatenation is awesome\n",
    "space = ' '\n",
    "print('concat'+space+'works'+space+'fine')"
   ]
  },
  {
   "cell_type": "code",
   "execution_count": 10,
   "metadata": {
    "collapsed": false
   },
   "outputs": [
    {
     "data": {
      "text/plain": [
       "'unununium'"
      ]
     },
     "execution_count": 10,
     "metadata": {},
     "output_type": "execute_result"
    }
   ],
   "source": [
    "# String multiplication - whaa ?\n",
    "\n",
    "3*'un'+'ium'"
   ]
  },
  {
   "cell_type": "code",
   "execution_count": 11,
   "metadata": {
    "collapsed": false
   },
   "outputs": [
    {
     "data": {
      "text/plain": [
       "'PythonIsAwesome'"
      ]
     },
     "execution_count": 11,
     "metadata": {},
     "output_type": "execute_result"
    }
   ],
   "source": [
    "# Two or more string literals (i.e. the ones enclosed between quotes) next \n",
    "# to each other are automatically concatenated.\n",
    "\n",
    "'Py' 'thon' 'Is' 'Awesome'\n",
    "\n",
    "# This only works with two literals though, not with variables or expressions"
   ]
  },
  {
   "cell_type": "code",
   "execution_count": 12,
   "metadata": {
    "collapsed": false
   },
   "outputs": [
    {
     "name": "stdout",
     "output_type": "stream",
     "text": [
      "Full : Python\n",
      "Full : Python\n",
      "last letter : n\n",
      "reversal : nohtyP\n",
      "step two : Pto\n",
      "simple slice : Pyt\n",
      "on\n"
     ]
    }
   ],
   "source": [
    "word = 'Python'\n",
    "# String indexing is easy and cool and slicing is stunning\n",
    "\n",
    "print('Full :', word[:])\n",
    "print('Full :', word)\n",
    "print('last letter :', word[-1]) # reverse indexing\n",
    "print('reversal :', word[::-1]) # The idea is start, end(excluded), step\n",
    "print('step two :', word[::2])\n",
    "print('simple slice :', word[:3])\n",
    "print(word[-2:]) # -2 to end\n",
    "\n"
   ]
  },
  {
   "cell_type": "code",
   "execution_count": 13,
   "metadata": {
    "collapsed": false
   },
   "outputs": [
    {
     "name": "stdout",
     "output_type": "stream",
     "text": [
      "on Here\n",
      "There is nothing\n"
     ]
    }
   ],
   "source": [
    "# Out of range slice indexes are handled gracefully when used for slicing:\n",
    "\n",
    "print(word[4:42], 'Here')\n",
    "print(word[42:]+'There is nothing')\n"
   ]
  },
  {
   "cell_type": "markdown",
   "metadata": {},
   "source": [
    "### Strings are immutable\n",
    "#### Assignment to indices is not possible\n"
   ]
  },
  {
   "cell_type": "code",
   "execution_count": 14,
   "metadata": {
    "collapsed": false
   },
   "outputs": [
    {
     "data": {
      "text/plain": [
       "34"
      ]
     },
     "execution_count": 14,
     "metadata": {},
     "output_type": "execute_result"
    }
   ],
   "source": [
    "s = 'supercalifragilisticexpialidocious'\n",
    "len(s) # use len generously"
   ]
  },
  {
   "cell_type": "markdown",
   "metadata": {},
   "source": [
    "## Welcome to LISTS"
   ]
  },
  {
   "cell_type": "code",
   "execution_count": 15,
   "metadata": {
    "collapsed": false
   },
   "outputs": [
    {
     "name": "stdout",
     "output_type": "stream",
     "text": [
      "[1, 2, 3, 4, 5]\n",
      "[1, 4, 9, 16, 25]\n"
     ]
    }
   ],
   "source": [
    "numbers = [i for i in range(1,6)]\n",
    "print(numbers)\n",
    "squares = [i*i for i in numbers]\n",
    "print(squares)"
   ]
  },
  {
   "cell_type": "code",
   "execution_count": 16,
   "metadata": {
    "collapsed": false
   },
   "outputs": [
    {
     "name": "stdout",
     "output_type": "stream",
     "text": [
      "1\n",
      "new:  [1, 4, 9, 16, 25]\n",
      "new:  [1, 4, 9, 16, 25]\n",
      "old:  [0, 4, 9, 16, 25]\n",
      "squares:  [0, 4, 9, 16, 25]\n"
     ]
    }
   ],
   "source": [
    "# List indexing works as expected\n",
    "print(squares[0])\n",
    "\n",
    "# List slicing returns a newlist(shallow copy)\n",
    "old = squares\n",
    "new = squares[:]\n",
    "\n",
    "print('new: ', new)\n",
    "old[0] = 0\n",
    "print('new: ', new)\n",
    "print('old: ', old)\n",
    "print('squares: ', squares)"
   ]
  },
  {
   "cell_type": "code",
   "execution_count": 17,
   "metadata": {
    "collapsed": false
   },
   "outputs": [
    {
     "data": {
      "text/plain": [
       "[1, 4, 2, 3, 4]"
      ]
     },
     "execution_count": 17,
     "metadata": {},
     "output_type": "execute_result"
    }
   ],
   "source": [
    "new[2:5] = [2, 3, 4]\n",
    "new"
   ]
  },
  {
   "cell_type": "markdown",
   "metadata": {},
   "source": [
    "### More about lists\n",
    "- List concat works just like string concat\n",
    "- Lists are mutable\n",
    "- append, extend make life easier\n",
    "- assignments to slices is possible\n",
    "- len works here too\n",
    "- lists can be nested\n"
   ]
  },
  {
   "cell_type": "markdown",
   "metadata": {},
   "source": [
    "## Now into control flows - conditionals\n",
    "\n",
    "- if elif else\n",
    "- for\n",
    "- while\n",
    "- break \n",
    "- continue\n",
    "- pass\n"
   ]
  },
  {
   "cell_type": "code",
   "execution_count": 18,
   "metadata": {
    "collapsed": false
   },
   "outputs": [
    {
     "name": "stdout",
     "output_type": "stream",
     "text": [
      "Enter an int: 0\n",
      "abysmal\n"
     ]
    }
   ],
   "source": [
    "# Does input work here?\n",
    "x = int(input('Enter an int: '))\n",
    "if x > 10 :\n",
    "    print('sure - that totally matters')\n",
    "elif x > 5 :\n",
    "    print('could you be any less ambitious')\n",
    "else :\n",
    "    print('abysmal')\n",
    "    "
   ]
  },
  {
   "cell_type": "code",
   "execution_count": 19,
   "metadata": {
    "collapsed": false
   },
   "outputs": [
    {
     "name": "stdout",
     "output_type": "stream",
     "text": [
      "0\n",
      "1\n",
      "2\n",
      "3\n",
      "4\n",
      "5\n",
      "6\n",
      "7\n",
      "8\n",
      "9\n"
     ]
    }
   ],
   "source": [
    "# for loops\n",
    "numbers = range(10)\n",
    "for i in numbers:\n",
    "    print(i)"
   ]
  },
  {
   "cell_type": "code",
   "execution_count": 20,
   "metadata": {
    "collapsed": false
   },
   "outputs": [
    {
     "data": {
      "text/plain": [
       "['small', 'big', 'massive', 'enormous']"
      ]
     },
     "execution_count": 20,
     "metadata": {},
     "output_type": "execute_result"
    }
   ],
   "source": [
    "# Here's a funny piece - slice creates a copy so that things don't get\n",
    "# muddled during looping. WARNING - do not remove the slicing\n",
    "# if you do not heed the warning, deal with the consequences\n",
    "\n",
    "words = ['small', 'big', 'massive']\n",
    "for w in words[:]:\n",
    "    if len(w) > 5:\n",
    "        words.append('enormous')\n",
    "words"
   ]
  },
  {
   "cell_type": "code",
   "execution_count": 21,
   "metadata": {
    "collapsed": false
   },
   "outputs": [
    {
     "name": "stdout",
     "output_type": "stream",
     "text": [
      "[0, 2, 4, 6, 8, 10, 12, 14, 16, 18]\n"
     ]
    }
   ],
   "source": [
    "# range works with start, end and step again\n",
    "# Range is an object, an iterable - list creates lists from iterables,\n",
    "# for iterates over iterables\n",
    "print(list(range(0,20,2)))"
   ]
  },
  {
   "cell_type": "code",
   "execution_count": 22,
   "metadata": {
    "collapsed": false
   },
   "outputs": [
    {
     "name": "stdout",
     "output_type": "stream",
     "text": [
      "2 is a prime number\n",
      "3 is a prime number\n",
      "4 equals 2 * 2\n",
      "5 is a prime number\n",
      "6 equals 2 * 3\n",
      "7 is a prime number\n",
      "8 equals 2 * 4\n",
      "9 equals 3 * 3\n"
     ]
    }
   ],
   "source": [
    "# break, continue, pass are self explanatory\n",
    "# except 'for' can have 'else' O_O\n",
    "# It works like else in try i.e. when no break occurs\n",
    "# How cool is that!\n",
    "\n",
    "for n in range(2,10):\n",
    "    for x in range(2,n):\n",
    "        if n % x == 0:\n",
    "            print('%d equals %d * %d' %(n,x,n//x))\n",
    "            break\n",
    "    else:\n",
    "        print('%d is a prime number' %n)"
   ]
  },
  {
   "cell_type": "markdown",
   "metadata": {},
   "source": [
    "## Welcome to functions"
   ]
  },
  {
   "cell_type": "code",
   "execution_count": 23,
   "metadata": {
    "collapsed": false
   },
   "outputs": [
    {
     "name": "stdout",
     "output_type": "stream",
     "text": [
      "0 1 1 2 3 5 8 13 \n",
      "0\n",
      "1\n",
      "[0, 1, 1, 2, 3, 5, 8, 13, 21, 34, 55] 11\n",
      "55\n"
     ]
    }
   ],
   "source": [
    "\n",
    "def fibo(n):\n",
    "    '''n is the boundary here'''\n",
    "    a, b = 0, 1\n",
    "    while a<n:\n",
    "        print(a, end=' ')\n",
    "        a,b= b, a+b\n",
    "    print()\n",
    "    \n",
    "fibo(20)\n",
    "\n",
    "def fibo_optimized(n):\n",
    "    '''n is the number of terms here with n = 0 return 0 as the 0th term'''\n",
    "    fibo = [0,1]\n",
    "    if n < 2:\n",
    "        return fibo[n]\n",
    "    else:\n",
    "        for i in range(n-1):\n",
    "            fibo.append(fibo[i]+fibo[i+1])\n",
    "    print(fibo, len(fibo))\n",
    "    return fibo[n]\n",
    "\n",
    "# Also, rename functions like a boss\n",
    "\n",
    "g = fibo_optimized\n",
    "print(fibo_optimized(0))\n",
    "print(fibo_optimized(1))\n",
    "print(g(10))\n"
   ]
  },
  {
   "cell_type": "code",
   "execution_count": 26,
   "metadata": {
    "collapsed": false
   },
   "outputs": [
    {
     "name": "stdout",
     "output_type": "stream",
     "text": [
      "Do you really want to quit?N\n",
      "Yes or no, please!\n",
      "Do you really want to quit?NO\n",
      "Yes or no, please!\n",
      "Do you really want to quit?NO!!!!\n",
      "Yes or no, please!\n",
      "Do you really want to quit?no\n",
      "False\n",
      "Overwrite file?YES\n",
      "Yes or no, please!\n",
      "Overwrite file?Y\n",
      "Yes or no, please!\n",
      "Overwrite file?y\n",
      "True\n",
      "Overwrite file again?NOOO\n",
      "Only yes or no for Asimov's sake!\n",
      "Overwrite file again?Nein!\n",
      "Only yes or no for Asimov's sake!\n",
      "Overwrite file again?n\n",
      "False\n"
     ]
    }
   ],
   "source": [
    "# Default args? \n",
    "\n",
    "def ask_ok(prompt, retries=4, complaint='Yes or no, please!'):\n",
    "    while True:\n",
    "        ok = input(prompt)\n",
    "        if ok in ('y', 'ye', 'yes'):\n",
    "            return True\n",
    "        if ok in ('n', 'no', 'nop', 'nope'):\n",
    "            return False\n",
    "        retries = retries - 1\n",
    "        if retries < 0:\n",
    "            raise OSError('uncooperative user')\n",
    "        print(complaint)\n",
    "        \n",
    "print(ask_ok('Do you really want to quit?'))\n",
    "print(ask_ok('Overwrite file?',2))\n",
    "print(ask_ok('Overwrite file again?', 2 , \"Only yes or no for Asimov's sake!\"))"
   ]
  },
  {
   "cell_type": "code",
   "execution_count": 31,
   "metadata": {
    "collapsed": false
   },
   "outputs": [
    {
     "name": "stdout",
     "output_type": "stream",
     "text": [
      "The test_arg: a man\n",
      "The args\n",
      "1\n",
      "2\n",
      "3\n",
      "4\n",
      "5\n",
      "The key word args\n",
      "they : Third person plural\n",
      "me : Arjunil\n",
      "you : Second person\n"
     ]
    }
   ],
   "source": [
    "# Welcome the args and kwargs - variable length args and key word args\n",
    "# args go into a tuple\n",
    "# kwargs into dict\n",
    "\n",
    "def args_vs_kwargs(test_arg, *args, **kwargs) :\n",
    "    print('The test_arg:', test_arg)\n",
    "    print('The args')\n",
    "    for arg in args:\n",
    "        print(arg)\n",
    "    print('The key word args')\n",
    "    for key, val in kwargs.items():\n",
    "        print(key + ' : ' + val)\n",
    "        \n",
    "args_vs_kwargs('a man', 1,2,3,4,5, me='Arjunil', you='Second person', they='Third person plural')\n"
   ]
  },
  {
   "cell_type": "code",
   "execution_count": 36,
   "metadata": {
    "collapsed": false
   },
   "outputs": [
    {
     "name": "stdout",
     "output_type": "stream",
     "text": [
      "[3, 4, 5, 6, 7, 8, 9]\n"
     ]
    }
   ],
   "source": [
    "# Unpacking args ?\n",
    "\n",
    "args = [3,10]\n",
    "#range(args) # errors out\n",
    "\n",
    "print(list(range(*args))) # unpacks and hence works\n"
   ]
  },
  {
   "cell_type": "code",
   "execution_count": 39,
   "metadata": {
    "collapsed": false
   },
   "outputs": [
    {
     "name": "stdout",
     "output_type": "stream",
     "text": [
      "This parrot wouldn't VOOM if you put four million volts through it. E's bleedin' demised !\n"
     ]
    }
   ],
   "source": [
    "# Unpacking kwargs also works\n",
    "\n",
    "def parrot(voltage, action='voom', state='a stiff'):\n",
    "    print(\"This parrot wouldn't\", action, end=' ')\n",
    "    print(\"if you put\", voltage, \"volts through it.\", end=' ')\n",
    "    print(\"E's\", state, \"!\")\n",
    "d = {\"voltage\": \"four million\", \"state\": \"bleedin' demised\", \"action\": \"VOOM\"}\n",
    "parrot(**d)\n"
   ]
  },
  {
   "cell_type": "markdown",
   "metadata": {},
   "source": [
    "# Lambda expressions"
   ]
  },
  {
   "cell_type": "code",
   "execution_count": 2,
   "metadata": {
    "collapsed": false
   },
   "outputs": [
    {
     "data": {
      "text/plain": [
       "22"
      ]
     },
     "execution_count": 2,
     "metadata": {},
     "output_type": "execute_result"
    }
   ],
   "source": [
    "# Use case 1 - function object\n",
    "def increment_me_by(n):\n",
    "    return lambda x: x+n\n",
    "\n",
    "f = increment_me_by(10)\n",
    "f(12)"
   ]
  },
  {
   "cell_type": "code",
   "execution_count": 3,
   "metadata": {
    "collapsed": false
   },
   "outputs": [
    {
     "data": {
      "text/plain": [
       "[(4, 'four'), (1, 'one'), (3, 'three'), (2, 'two')]"
      ]
     },
     "execution_count": 3,
     "metadata": {},
     "output_type": "execute_result"
    }
   ],
   "source": [
    "# Case 2 - Small function\n",
    "\n",
    "pairs = [(1,'one'), (2,'two'), (3,'three'), (4, 'four')]\n",
    "\n",
    "pairs.sort(key = lambda pair: pair[1])\n",
    "\n",
    "pairs"
   ]
  },
  {
   "cell_type": "markdown",
   "metadata": {},
   "source": [
    "# Doc Strings"
   ]
  },
  {
   "cell_type": "code",
   "execution_count": 4,
   "metadata": {
    "collapsed": false
   },
   "outputs": [
    {
     "name": "stdout",
     "output_type": "stream",
     "text": [
      "Here's some documentation.\n",
      "    \n",
      "    Spanning multiple lines\n",
      "    \n"
     ]
    }
   ],
   "source": [
    "def fun():\n",
    "    '''Here's some documentation.\n",
    "    \n",
    "    Spanning multiple lines\n",
    "    '''\n",
    "    pass\n",
    "\n",
    "print(fun.__doc__)"
   ]
  },
  {
   "cell_type": "code",
   "execution_count": 5,
   "metadata": {
    "collapsed": false
   },
   "outputs": [
    {
     "data": {
      "text/plain": [
       "['__annotations__',\n",
       " '__call__',\n",
       " '__class__',\n",
       " '__closure__',\n",
       " '__code__',\n",
       " '__defaults__',\n",
       " '__delattr__',\n",
       " '__dict__',\n",
       " '__dir__',\n",
       " '__doc__',\n",
       " '__eq__',\n",
       " '__format__',\n",
       " '__ge__',\n",
       " '__get__',\n",
       " '__getattribute__',\n",
       " '__globals__',\n",
       " '__gt__',\n",
       " '__hash__',\n",
       " '__init__',\n",
       " '__kwdefaults__',\n",
       " '__le__',\n",
       " '__lt__',\n",
       " '__module__',\n",
       " '__name__',\n",
       " '__ne__',\n",
       " '__new__',\n",
       " '__qualname__',\n",
       " '__reduce__',\n",
       " '__reduce_ex__',\n",
       " '__repr__',\n",
       " '__setattr__',\n",
       " '__sizeof__',\n",
       " '__str__',\n",
       " '__subclasshook__']"
      ]
     },
     "execution_count": 5,
     "metadata": {},
     "output_type": "execute_result"
    }
   ],
   "source": [
    "# Also useful \n",
    "dir(fun)"
   ]
  },
  {
   "cell_type": "code",
   "execution_count": 7,
   "metadata": {
    "collapsed": false
   },
   "outputs": [
    {
     "name": "stdout",
     "output_type": "stream",
     "text": [
      "2 1\n",
      "1 2\n"
     ]
    }
   ],
   "source": [
    "# testing for call by value where the value is an object reference\n",
    "# THEREFORE, call by object reference\n",
    "# If mutable object - changes reflected\n",
    "\n",
    "def swap(one, two):\n",
    "    one, two = two, one\n",
    "    print(one, two)\n",
    "    \n",
    "a = 1\n",
    "b = 2\n",
    "\n",
    "swap(a,b)\n",
    "print(a,b)"
   ]
  },
  {
   "cell_type": "markdown",
   "metadata": {},
   "source": [
    "# coding guidelines\n",
    "\n",
    "- https://docs.python.org/3.4/tutorial/controlflow.html#id2\n",
    "- And PEP 8 of course\n",
    "- Zen https://www.python.org/dev/peps/pep-0020/\n"
   ]
  },
  {
   "cell_type": "markdown",
   "metadata": {},
   "source": [
    "# Data Structures"
   ]
  },
  {
   "cell_type": "markdown",
   "metadata": {},
   "source": [
    "## Lists\n",
    "- append(x)\n",
    "- extend(L)\n",
    "- insert(i,x)\n",
    "- remove(x)\n",
    "- pop([i])\n",
    "- clear() = del a[:]\n",
    "- index(x)- index of first item = x\n",
    "- count(x) - return number of times x appears in list\n",
    "- sort()\n",
    "- reverse()\n",
    "- copy() - shallow copy\n",
    "\n",
    "**Anything that modifies the list returns None**  \n",
    "  Applies to all mutable DS in python"
   ]
  },
  {
   "cell_type": "markdown",
   "metadata": {},
   "source": [
    "### Stack LIFO\n",
    "\n",
    "A list works fine as a stack with push being append and pop without an arg\n"
   ]
  },
  {
   "cell_type": "code",
   "execution_count": 14,
   "metadata": {
    "collapsed": false
   },
   "outputs": [
    {
     "name": "stdout",
     "output_type": "stream",
     "text": [
      "stack initially [0, 1, 2, 3, 4, 5, 6, 7, 8, 9]\n",
      "After appending: [0, 1, 2, 3, 4, 5, 6, 7, 8, 9, 10, 11]\n",
      "[0, 1, 2, 3, 4, 5, 6, 7, 8]\n"
     ]
    }
   ],
   "source": [
    "stack = list(range(10))\n",
    "print('stack initially', stack)\n",
    "stack.append(10)\n",
    "stack.append(11)\n",
    "print('After appending:', stack)\n",
    "stack.pop()\n",
    "stack.pop()\n",
    "stack.pop()\n",
    "\n",
    "print(stack)"
   ]
  },
  {
   "cell_type": "markdown",
   "metadata": {},
   "source": [
    "### Queue FIFO\n",
    "\n",
    "lists are not effieicnt for queue implementation - insert and pops from beginnings are expensive since all elements need to be moved\n"
   ]
  },
  {
   "cell_type": "code",
   "execution_count": 15,
   "metadata": {
    "collapsed": false
   },
   "outputs": [
    {
     "name": "stdout",
     "output_type": "stream",
     "text": [
      "deque(['Eric', 'John', 'Michael', 'Arjunil'])\n",
      "deque(['John', 'Michael', 'Arjunil'])\n"
     ]
    }
   ],
   "source": [
    "# queues\n",
    "\n",
    "from collections import deque\n",
    "queue = deque(['Eric', 'John', 'Michael'])\n",
    "\n",
    "queue.append('Arjunil')\n",
    "print(queue)\n",
    "queue.popleft()\n",
    "print(queue)"
   ]
  },
  {
   "cell_type": "markdown",
   "metadata": {},
   "source": [
    "### List Comprehension - let's get pythonic"
   ]
  },
  {
   "cell_type": "code",
   "execution_count": 17,
   "metadata": {
    "collapsed": false
   },
   "outputs": [
    {
     "data": {
      "text/plain": [
       "[0, 1, 4, 9, 16, 25, 36, 49, 64, 81]"
      ]
     },
     "execution_count": 17,
     "metadata": {},
     "output_type": "execute_result"
    }
   ],
   "source": [
    "squares = list(map(lambda x: x*x, range(10)))\n",
    "squares"
   ]
  },
  {
   "cell_type": "code",
   "execution_count": 20,
   "metadata": {
    "collapsed": false
   },
   "outputs": [
    {
     "data": {
      "text/plain": [
       "[0, 1, 4, 9, 16, 25, 36, 49, 64, 81]"
      ]
     },
     "execution_count": 20,
     "metadata": {},
     "output_type": "execute_result"
    }
   ],
   "source": [
    "square_2 = [x*x for x in range(10)]\n",
    "square_2"
   ]
  },
  {
   "cell_type": "markdown",
   "metadata": {},
   "source": [
    "List comprehensions have a structure as below\n",
    "1. Brackets\n",
    "2. expression\n",
    "3. for - one or more\n",
    "4. if clause - 0 or more\n",
    "\n",
    "Basically - the order is what you would expect when doing the entire operation in a non-pythonic way"
   ]
  },
  {
   "cell_type": "code",
   "execution_count": 24,
   "metadata": {
    "collapsed": false
   },
   "outputs": [
    {
     "data": {
      "text/plain": [
       "[(1, 2), (1, 3), (2, 1), (2, 3), (3, 1), (3, 2)]"
      ]
     },
     "execution_count": 24,
     "metadata": {},
     "output_type": "execute_result"
    }
   ],
   "source": [
    "# here's an example\n",
    "\n",
    "combs = [(x,y) for x in range(1,4) for y in range(1,4) if x!=y]\n",
    "combs"
   ]
  },
  {
   "cell_type": "code",
   "execution_count": 30,
   "metadata": {
    "collapsed": false
   },
   "outputs": [
    {
     "name": "stdout",
     "output_type": "stream",
     "text": [
      "[-8, -4, 0, 4, 8]\n",
      "[0, 2, 4]\n",
      "[4, 2, 0, 2, 4]\n",
      "['banana', 'loganberry', 'passion fruit']\n",
      "[(0, 0), (1, 1), (2, 4), (3, 9), (4, 16), (5, 25)]\n"
     ]
    }
   ],
   "source": [
    "vec = [-4, -2, 0, 2, 4]\n",
    "# create a new list with the values doubled\n",
    "print([x*2 for x in vec])\n",
    "# filter the list to exclude negative numbers\n",
    "print([x for x in vec if x >= 0])\n",
    "# apply a function to all the elements\n",
    "print([abs(x) for x in vec])\n",
    "# call a method on each element\n",
    "freshfruit = ['  banana', '  loganberry ', 'passion fruit  ']\n",
    "print([weapon.strip() for weapon in freshfruit])\n",
    "# create a list of 2-tuples like (number, square)\n",
    "print([(x, x**2) for x in range(6)])\n"
   ]
  },
  {
   "cell_type": "code",
   "execution_count": 37,
   "metadata": {
    "collapsed": false
   },
   "outputs": [
    {
     "data": {
      "text/plain": [
       "[[1, 5, 9], [2, 6, 10], [3, 7, 11], [4, 8, 12]]"
      ]
     },
     "execution_count": 37,
     "metadata": {},
     "output_type": "execute_result"
    }
   ],
   "source": [
    "# Said expression in list comprehension can be anything including nested functions\n",
    "# to the extent that it can be a list comprehension!\n",
    "# Yes. Nested. List. Comprehensions.\n",
    "# Total chaos\n",
    "\n",
    "matrix = [[1,2,3,4],[5,6,7,8], [9,10,11,12]]\n",
    "\n",
    "transpose = [[row[i] for row in matrix] for i in range(4) ]\n",
    "transpose\n"
   ]
  },
  {
   "cell_type": "code",
   "execution_count": 42,
   "metadata": {
    "collapsed": false
   },
   "outputs": [
    {
     "name": "stdout",
     "output_type": "stream",
     "text": [
      "[(0, 5), (1, 6), (2, 7), (3, 8), (4, 9)]\n"
     ]
    },
    {
     "data": {
      "text/plain": [
       "[(1, 5, 9), (2, 6, 10), (3, 7, 11), (4, 8, 12)]"
      ]
     },
     "execution_count": 42,
     "metadata": {},
     "output_type": "execute_result"
    }
   ],
   "source": [
    "# But lets not even try when this does the same\n",
    "#print(*matrix)\n",
    "#print(list(zip([a for a in range(5)], [b for b in range(5,10)])))\n",
    "\n",
    "\n",
    "list(zip(*matrix))"
   ]
  },
  {
   "cell_type": "markdown",
   "metadata": {},
   "source": [
    "#### del statement"
   ]
  },
  {
   "cell_type": "code",
   "execution_count": 44,
   "metadata": {
    "collapsed": false
   },
   "outputs": [
    {
     "name": "stdout",
     "output_type": "stream",
     "text": [
      "[-4, -3, -2, -1, 0, 1, 2, 3]\n",
      "[0, 1, 2, 3]\n",
      "[]\n"
     ]
    }
   ],
   "source": [
    "a = list(range(-4,4))\n",
    "print(a)\n",
    "del a[:4]\n",
    "print(a)\n",
    "del a[:]\n",
    "print(a)"
   ]
  },
  {
   "cell_type": "code",
   "execution_count": 45,
   "metadata": {
    "collapsed": false
   },
   "outputs": [
    {
     "name": "stdout",
     "output_type": "stream",
     "text": [
      "10\n"
     ]
    },
    {
     "ename": "NameError",
     "evalue": "name 'a' is not defined",
     "output_type": "error",
     "traceback": [
      "\u001b[1;31m---------------------------------------------------------------------------\u001b[0m",
      "\u001b[1;31mNameError\u001b[0m                                 Traceback (most recent call last)",
      "\u001b[1;32m<ipython-input-45-1e8d600768bb>\u001b[0m in \u001b[0;36m<module>\u001b[1;34m()\u001b[0m\n\u001b[0;32m      3\u001b[0m \u001b[0mprint\u001b[0m\u001b[1;33m(\u001b[0m\u001b[0ma\u001b[0m\u001b[1;33m)\u001b[0m\u001b[1;33m\u001b[0m\u001b[0m\n\u001b[0;32m      4\u001b[0m \u001b[1;32mdel\u001b[0m \u001b[0ma\u001b[0m\u001b[1;33m\u001b[0m\u001b[0m\n\u001b[1;32m----> 5\u001b[1;33m \u001b[0mprint\u001b[0m\u001b[1;33m(\u001b[0m\u001b[0ma\u001b[0m\u001b[1;33m)\u001b[0m\u001b[1;33m\u001b[0m\u001b[0m\n\u001b[0m",
      "\u001b[1;31mNameError\u001b[0m: name 'a' is not defined"
     ]
    }
   ],
   "source": [
    "# also removes variables\n",
    "a = 10\n",
    "print(a)\n",
    "del a\n",
    "print(a)"
   ]
  },
  {
   "cell_type": "markdown",
   "metadata": {},
   "source": [
    "### Tuples and Sequences\n",
    "\n",
    "Tuples are immutable"
   ]
  },
  {
   "cell_type": "code",
   "execution_count": 47,
   "metadata": {
    "collapsed": false
   },
   "outputs": [
    {
     "data": {
      "text/plain": [
       "tuple"
      ]
     },
     "execution_count": 47,
     "metadata": {},
     "output_type": "execute_result"
    }
   ],
   "source": [
    "empty = ()\n",
    "type(empty)"
   ]
  },
  {
   "cell_type": "code",
   "execution_count": 48,
   "metadata": {
    "collapsed": false
   },
   "outputs": [
    {
     "data": {
      "text/plain": [
       "tuple"
      ]
     },
     "execution_count": 48,
     "metadata": {},
     "output_type": "execute_result"
    }
   ],
   "source": [
    "tup = 'hello',\n",
    "type(tup)"
   ]
  },
  {
   "cell_type": "code",
   "execution_count": 50,
   "metadata": {
    "collapsed": false
   },
   "outputs": [
    {
     "name": "stdout",
     "output_type": "stream",
     "text": [
      "1 2 3 4 (1, 2, 3, 4)\n"
     ]
    },
    {
     "data": {
      "text/plain": [
       "(2, 1)"
      ]
     },
     "execution_count": 50,
     "metadata": {},
     "output_type": "execute_result"
    }
   ],
   "source": [
    "# multiple assignment is a combination of tuple packing and sequence unpacking\n",
    "\n",
    "t = 1,2,3,4 # tuple packing\n",
    "a,b,c,d = t # sequence unpacking\n",
    "print(a, b,c,d, t)\n",
    "\n",
    "a,b = b, a\n",
    "a,b"
   ]
  },
  {
   "cell_type": "markdown",
   "metadata": {},
   "source": [
    "### Sets\n",
    "\n",
    "- created by set func or non empty braces\n",
    "- unordered collection\n",
    "- no dupes\n",
    "- set operations supported"
   ]
  },
  {
   "cell_type": "code",
   "execution_count": 52,
   "metadata": {
    "collapsed": false
   },
   "outputs": [
    {
     "name": "stdout",
     "output_type": "stream",
     "text": [
      "{'a', 'c', 'r', 'b', 'd'} {'k', 'a', 'z', 'l', 'm'}\n"
     ]
    }
   ],
   "source": [
    "a = set('abracadabra')\n",
    "b = set('alakazam')\n",
    "print(a, b)"
   ]
  },
  {
   "cell_type": "code",
   "execution_count": 53,
   "metadata": {
    "collapsed": false
   },
   "outputs": [
    {
     "data": {
      "text/plain": [
       "{'b', 'c', 'd', 'r'}"
      ]
     },
     "execution_count": 53,
     "metadata": {},
     "output_type": "execute_result"
    }
   ],
   "source": [
    "a-b"
   ]
  },
  {
   "cell_type": "code",
   "execution_count": 55,
   "metadata": {
    "collapsed": false
   },
   "outputs": [
    {
     "data": {
      "text/plain": [
       "{'a'}"
      ]
     },
     "execution_count": 55,
     "metadata": {},
     "output_type": "execute_result"
    }
   ],
   "source": [
    "a&b"
   ]
  },
  {
   "cell_type": "code",
   "execution_count": 56,
   "metadata": {
    "collapsed": false
   },
   "outputs": [
    {
     "data": {
      "text/plain": [
       "{'a', 'b', 'c', 'd', 'k', 'l', 'm', 'r', 'z'}"
      ]
     },
     "execution_count": 56,
     "metadata": {},
     "output_type": "execute_result"
    }
   ],
   "source": [
    "a|b"
   ]
  },
  {
   "cell_type": "code",
   "execution_count": 57,
   "metadata": {
    "collapsed": false
   },
   "outputs": [
    {
     "data": {
      "text/plain": [
       "{'b', 'c', 'd', 'k', 'l', 'm', 'r', 'z'}"
      ]
     },
     "execution_count": 57,
     "metadata": {},
     "output_type": "execute_result"
    }
   ],
   "source": [
    "a^b"
   ]
  },
  {
   "cell_type": "markdown",
   "metadata": {},
   "source": [
    "#### And set comprehensions?!"
   ]
  },
  {
   "cell_type": "code",
   "execution_count": 58,
   "metadata": {
    "collapsed": false
   },
   "outputs": [
    {
     "data": {
      "text/plain": [
       "{'d', 'r'}"
      ]
     },
     "execution_count": 58,
     "metadata": {},
     "output_type": "execute_result"
    }
   ],
   "source": [
    "{x for x in 'abracadabra' if x not in 'abc'}"
   ]
  },
  {
   "cell_type": "markdown",
   "metadata": {},
   "source": [
    "### Dictionaries\n",
    "\n",
    "- keys are immutable - hence only immutable stuff can be used as key\n",
    "- unordered\n",
    "- {} empty dict\n"
   ]
  },
  {
   "cell_type": "code",
   "execution_count": 59,
   "metadata": {
    "collapsed": false
   },
   "outputs": [
    {
     "data": {
      "text/plain": [
       "{1: 'aragorn', 2: 'legolas', 3: 'gimli'}"
      ]
     },
     "execution_count": 59,
     "metadata": {},
     "output_type": "execute_result"
    }
   ],
   "source": [
    "d = {1: 'aragorn', 2: 'legolas', 3: 'gimli'}\n",
    "d"
   ]
  },
  {
   "cell_type": "code",
   "execution_count": 62,
   "metadata": {
    "collapsed": false
   },
   "outputs": [
    {
     "data": {
      "text/plain": [
       "['aragorn', 'gimli', 'legolas']"
      ]
     },
     "execution_count": 62,
     "metadata": {},
     "output_type": "execute_result"
    }
   ],
   "source": [
    "sorted(d.values())"
   ]
  },
  {
   "cell_type": "code",
   "execution_count": 63,
   "metadata": {
    "collapsed": false
   },
   "outputs": [
    {
     "data": {
      "text/plain": [
       "True"
      ]
     },
     "execution_count": 63,
     "metadata": {},
     "output_type": "execute_result"
    }
   ],
   "source": [
    "1 in d.keys()"
   ]
  },
  {
   "cell_type": "code",
   "execution_count": 64,
   "metadata": {
    "collapsed": false
   },
   "outputs": [
    {
     "data": {
      "text/plain": [
       "False"
      ]
     },
     "execution_count": 64,
     "metadata": {},
     "output_type": "execute_result"
    }
   ],
   "source": [
    "10 in d.keys()"
   ]
  },
  {
   "cell_type": "code",
   "execution_count": 65,
   "metadata": {
    "collapsed": false
   },
   "outputs": [
    {
     "data": {
      "text/plain": [
       "{0: 0, 1: 1, 2: 8, 3: 27, 4: 64, 5: 125}"
      ]
     },
     "execution_count": 65,
     "metadata": {},
     "output_type": "execute_result"
    }
   ],
   "source": [
    "# Dict comprehensions too\n",
    "\n",
    "{x:x**3 for x in range(6)}"
   ]
  },
  {
   "cell_type": "code",
   "execution_count": 67,
   "metadata": {
    "collapsed": false
   },
   "outputs": [
    {
     "data": {
      "text/plain": [
       "{'aragorn': 1, 'gimli': 3, 'legolas': 2}"
      ]
     },
     "execution_count": 67,
     "metadata": {},
     "output_type": "execute_result"
    }
   ],
   "source": [
    "# Also this - when keys are strings\n",
    "\n",
    "lotr = dict(aragorn=1, legolas=2, gimli=3)\n",
    "lotr"
   ]
  },
  {
   "cell_type": "markdown",
   "metadata": {},
   "source": [
    "### Looping techniques"
   ]
  },
  {
   "cell_type": "code",
   "execution_count": 69,
   "metadata": {
    "collapsed": false
   },
   "outputs": [
    {
     "name": "stdout",
     "output_type": "stream",
     "text": [
      "aragorn was number 1\n",
      "legolas was number 2\n",
      "gimli was number 3\n"
     ]
    }
   ],
   "source": [
    "# items method for dict\n",
    "\n",
    "for entity, rank in lotr.items():\n",
    "    print(entity, 'was number', rank)"
   ]
  },
  {
   "cell_type": "code",
   "execution_count": 70,
   "metadata": {
    "collapsed": false
   },
   "outputs": [
    {
     "name": "stdout",
     "output_type": "stream",
     "text": [
      "a is 1\n",
      "b is 2\n",
      "c is 3\n"
     ]
    }
   ],
   "source": [
    "# enumerate for index and val\n",
    "\n",
    "for i, alphabet in enumerate(['a','b','c']):\n",
    "    print(alphabet, 'is', i+1)"
   ]
  },
  {
   "cell_type": "code",
   "execution_count": 72,
   "metadata": {
    "collapsed": false
   },
   "outputs": [
    {
     "name": "stdout",
     "output_type": "stream",
     "text": [
      "1 11\n",
      "2 12\n",
      "3 13\n",
      "4 14\n",
      "5 15\n"
     ]
    }
   ],
   "source": [
    "# loop over multiple sequences at a time using zip\n",
    "\n",
    "a = list(range(1,6))\n",
    "b = list(range(11,16))\n",
    "for p,q in zip(a,b):\n",
    "    print(p,q)\n",
    "\n"
   ]
  },
  {
   "cell_type": "code",
   "execution_count": 73,
   "metadata": {
    "collapsed": false
   },
   "outputs": [
    {
     "name": "stdout",
     "output_type": "stream",
     "text": [
      "[9, 8, 7, 6, 5, 4, 3, 2, 1]\n"
     ]
    }
   ],
   "source": [
    "# reversal and looping\n",
    "\n",
    "print([i for i in reversed(range(1,10))])"
   ]
  },
  {
   "cell_type": "code",
   "execution_count": 74,
   "metadata": {
    "collapsed": false
   },
   "outputs": [
    {
     "name": "stdout",
     "output_type": "stream",
     "text": [
      "apple\n",
      "banana\n",
      "orange\n",
      "pear\n"
     ]
    }
   ],
   "source": [
    "basket = ['apple', 'orange', 'apple', 'pear', 'orange', 'banana']\n",
    "for f in sorted(set(basket)):\n",
    "    print(f)\n"
   ]
  },
  {
   "cell_type": "markdown",
   "metadata": {},
   "source": [
    "### Conditions\n",
    "- in/ not in checks whether value occursin sequence\n",
    "- is/ is not checks whether two objects are the same or not\n",
    "- All comparison operators have same priority, lower than numerical ops\n",
    "- comparisons can be chained\n",
    "- and , or short circuit ops - left to right eval - stops when answer found"
   ]
  },
  {
   "cell_type": "code",
   "execution_count": 86,
   "metadata": {
    "collapsed": false
   },
   "outputs": [
    {
     "name": "stdout",
     "output_type": "stream",
     "text": [
      "False\n",
      "True\n"
     ]
    }
   ],
   "source": [
    "a = list(range(10))\n",
    "b = a\n",
    "c = a[:]\n",
    "print(b is c)\n",
    "print(b is a)"
   ]
  },
  {
   "cell_type": "code",
   "execution_count": 87,
   "metadata": {
    "collapsed": false
   },
   "outputs": [
    {
     "data": {
      "text/plain": [
       "True"
      ]
     },
     "execution_count": 87,
     "metadata": {},
     "output_type": "execute_result"
    }
   ],
   "source": [
    "# chain comparisons\n",
    "\n",
    "a = 10\n",
    "b = 12\n",
    "c = 12\n",
    "d = 11\n",
    "\n",
    "a < b == c "
   ]
  },
  {
   "cell_type": "code",
   "execution_count": 88,
   "metadata": {
    "collapsed": false
   },
   "outputs": [
    {
     "data": {
      "text/plain": [
       "True"
      ]
     },
     "execution_count": 88,
     "metadata": {},
     "output_type": "execute_result"
    }
   ],
   "source": [
    "# not > and > or\n",
    "# For boolean\n",
    "\n",
    "A = True\n",
    "B = False\n",
    "C = False\n",
    "\n",
    "A and not B or C"
   ]
  },
  {
   "cell_type": "code",
   "execution_count": 89,
   "metadata": {
    "collapsed": false
   },
   "outputs": [
    {
     "data": {
      "text/plain": [
       "False"
      ]
     },
     "execution_count": 89,
     "metadata": {},
     "output_type": "execute_result"
    }
   ],
   "source": [
    "A and B and C\n"
   ]
  },
  {
   "cell_type": "code",
   "execution_count": 90,
   "metadata": {
    "collapsed": false
   },
   "outputs": [
    {
     "data": {
      "text/plain": [
       "'Trondheim'"
      ]
     },
     "execution_count": 90,
     "metadata": {},
     "output_type": "execute_result"
    }
   ],
   "source": [
    "string1, string2, string3 = '', 'Trondheim', 'Hammer Dance'\n",
    "non_null = string1 or string2 or string3\n",
    "non_null\n"
   ]
  },
  {
   "cell_type": "code",
   "execution_count": 93,
   "metadata": {
    "collapsed": false
   },
   "outputs": [
    {
     "name": "stdout",
     "output_type": "stream",
     "text": [
      "False\n",
      "True\n",
      "True\n",
      "True\n",
      "True\n",
      "True\n",
      "True\n"
     ]
    }
   ],
   "source": [
    "print((1, 2, 5)              < (1, 2, 4))\n",
    "print([1, 2, 3]              < [1, 2, 4])\n",
    "print('ABC' < 'C' < 'Pascal' < 'Python')\n",
    "print((1, 2, 3, 4)           < (1, 2, 4))\n",
    "print((1, 2)                 < (1, 2, -1))\n",
    "print((1, 2, 3)             == (1.0, 2.0, 3.0))\n",
    "print((1, 2, ('aa', 'ab'))   < (1, 2, ('abc', 'a'), 4))"
   ]
  },
  {
   "cell_type": "markdown",
   "metadata": {},
   "source": [
    "## Modules\n",
    "\n",
    "- file with definitions and statements\n",
    "- module name + .py = filename\n",
    "- import module_name\n",
    "- from mudule import functions/variables\n",
    "- from module import * ( imports everything - but causes slutter - avoid)\n",
    "- caches compiled version of each module in \\_\\_pycache\\_\\_ directory with pyc extension\n",
    "\n",
    "\n",
    "Running  a module with ' python module.py args' causes execution just like an import except with \\_\\_name\\_\\_ set to \\_\\_main\\_\\_\n",
    "\n",
    "Therefore, check as below to use module as script\n",
    "\n",
    "    "
   ]
  },
  {
   "cell_type": "code",
   "execution_count": 95,
   "metadata": {
    "collapsed": true
   },
   "outputs": [],
   "source": [
    "if __name__ == '__main__':\n",
    "    # do stuff\n",
    "    pass"
   ]
  },
  {
   "cell_type": "markdown",
   "metadata": {},
   "source": [
    "#### Order of module search path\n",
    "\n",
    "1. built-in modules\n",
    "2. directory containing input script /current directory\n",
    "3. PYTHONPATH\n",
    "4. installation dependent default"
   ]
  },
  {
   "cell_type": "code",
   "execution_count": 98,
   "metadata": {
    "collapsed": false
   },
   "outputs": [],
   "source": [
    "# import sys\n",
    "# sys.path # this list determines interpreters search path for modules taken from\n",
    "# PYTHONPATH\n"
   ]
  },
  {
   "cell_type": "code",
   "execution_count": 109,
   "metadata": {
    "collapsed": false
   },
   "outputs": [
    {
     "name": "stdout",
     "output_type": "stream",
     "text": [
      "['A', 'B', 'C', 'In', 'Out', '_', '_1', '_102', '_103', '_104', '_17', '_19', '_2', '_20', '_21', '_23', '_24', '_25', '_3', '_32', '_33', '_35', '_36', '_37', '_38', '_39', '_40', '_41', '_42', '_47', '_48', '_5', '_50', '_53', '_55', '_56', '_57', '_58', '_59', '_60', '_62', '_63', '_64', '_65', '_66', '_67', '_78', '_79', '_80', '_81', '_82', '_83', '_84', '_85', '_87', '_88', '_89', '_90', '_91', '_96', '_99', '__', '___', '__builtin__', '__builtins__', '__doc__', '__loader__', '__name__', '__package__', '__spec__', '_dh', '_i', '_i1', '_i10', '_i100', '_i101', '_i102', '_i103', '_i104', '_i105', '_i106', '_i107', '_i108', '_i109', '_i11', '_i12', '_i13', '_i14', '_i15', '_i16', '_i17', '_i18', '_i19', '_i2', '_i20', '_i21', '_i22', '_i23', '_i24', '_i25', '_i26', '_i27', '_i28', '_i29', '_i3', '_i30', '_i31', '_i32', '_i33', '_i34', '_i35', '_i36', '_i37', '_i38', '_i39', '_i4', '_i40', '_i41', '_i42', '_i43', '_i44', '_i45', '_i46', '_i47', '_i48', '_i49', '_i5', '_i50', '_i51', '_i52', '_i53', '_i54', '_i55', '_i56', '_i57', '_i58', '_i59', '_i6', '_i60', '_i61', '_i62', '_i63', '_i64', '_i65', '_i66', '_i67', '_i68', '_i69', '_i7', '_i70', '_i71', '_i72', '_i73', '_i74', '_i75', '_i76', '_i77', '_i78', '_i79', '_i8', '_i80', '_i81', '_i82', '_i83', '_i84', '_i85', '_i86', '_i87', '_i88', '_i89', '_i9', '_i90', '_i91', '_i92', '_i93', '_i94', '_i95', '_i96', '_i97', '_i98', '_i99', '_ih', '_ii', '_iii', '_oh', '_sh', 'a', 'alphabet', 'b', 'basket', 'c', 'combs', 'd', 'deque', 'empty', 'entity', 'exit', 'f', 'freshfruit', 'fun', 'get_ipython', 'i', 'increment_me_by', 'lotr', 'matrix', 'non_null', 'p', 'pairs', 'q', 'queue', 'quit', 'rank', 'sqaure_2', 'square_2', 'squares', 'stack', 'string1', 'string2', 'string3', 'swap', 'sys', 't', 'transpose', 'tup', 'vec']\n"
     ]
    }
   ],
   "source": [
    "print(dir()) # prints all names currently defined"
   ]
  },
  {
   "cell_type": "code",
   "execution_count": 110,
   "metadata": {
    "collapsed": false
   },
   "outputs": [
    {
     "data": {
      "text/plain": [
       "['__annotations__',\n",
       " '__call__',\n",
       " '__class__',\n",
       " '__closure__',\n",
       " '__code__',\n",
       " '__defaults__',\n",
       " '__delattr__',\n",
       " '__dict__',\n",
       " '__dir__',\n",
       " '__doc__',\n",
       " '__eq__',\n",
       " '__format__',\n",
       " '__ge__',\n",
       " '__get__',\n",
       " '__getattribute__',\n",
       " '__globals__',\n",
       " '__gt__',\n",
       " '__hash__',\n",
       " '__init__',\n",
       " '__kwdefaults__',\n",
       " '__le__',\n",
       " '__lt__',\n",
       " '__module__',\n",
       " '__name__',\n",
       " '__ne__',\n",
       " '__new__',\n",
       " '__qualname__',\n",
       " '__reduce__',\n",
       " '__reduce_ex__',\n",
       " '__repr__',\n",
       " '__setattr__',\n",
       " '__sizeof__',\n",
       " '__str__',\n",
       " '__subclasshook__']"
      ]
     },
     "execution_count": 110,
     "metadata": {},
     "output_type": "execute_result"
    }
   ],
   "source": [
    "dir(fun)"
   ]
  },
  {
   "cell_type": "code",
   "execution_count": 111,
   "metadata": {
    "collapsed": false
   },
   "outputs": [
    {
     "data": {
      "text/plain": [
       "['ArithmeticError',\n",
       " 'AssertionError',\n",
       " 'AttributeError',\n",
       " 'BaseException',\n",
       " 'BlockingIOError',\n",
       " 'BrokenPipeError',\n",
       " 'BufferError',\n",
       " 'BytesWarning',\n",
       " 'ChildProcessError',\n",
       " 'ConnectionAbortedError',\n",
       " 'ConnectionError',\n",
       " 'ConnectionRefusedError',\n",
       " 'ConnectionResetError',\n",
       " 'DeprecationWarning',\n",
       " 'EOFError',\n",
       " 'Ellipsis',\n",
       " 'EnvironmentError',\n",
       " 'Exception',\n",
       " 'False',\n",
       " 'FileExistsError',\n",
       " 'FileNotFoundError',\n",
       " 'FloatingPointError',\n",
       " 'FutureWarning',\n",
       " 'GeneratorExit',\n",
       " 'IOError',\n",
       " 'ImportError',\n",
       " 'ImportWarning',\n",
       " 'IndentationError',\n",
       " 'IndexError',\n",
       " 'InterruptedError',\n",
       " 'IsADirectoryError',\n",
       " 'KeyError',\n",
       " 'KeyboardInterrupt',\n",
       " 'LookupError',\n",
       " 'MemoryError',\n",
       " 'NameError',\n",
       " 'None',\n",
       " 'NotADirectoryError',\n",
       " 'NotImplemented',\n",
       " 'NotImplementedError',\n",
       " 'OSError',\n",
       " 'OverflowError',\n",
       " 'PendingDeprecationWarning',\n",
       " 'PermissionError',\n",
       " 'ProcessLookupError',\n",
       " 'RecursionError',\n",
       " 'ReferenceError',\n",
       " 'ResourceWarning',\n",
       " 'RuntimeError',\n",
       " 'RuntimeWarning',\n",
       " 'StopAsyncIteration',\n",
       " 'StopIteration',\n",
       " 'SyntaxError',\n",
       " 'SyntaxWarning',\n",
       " 'SystemError',\n",
       " 'SystemExit',\n",
       " 'TabError',\n",
       " 'TimeoutError',\n",
       " 'True',\n",
       " 'TypeError',\n",
       " 'UnboundLocalError',\n",
       " 'UnicodeDecodeError',\n",
       " 'UnicodeEncodeError',\n",
       " 'UnicodeError',\n",
       " 'UnicodeTranslateError',\n",
       " 'UnicodeWarning',\n",
       " 'UserWarning',\n",
       " 'ValueError',\n",
       " 'Warning',\n",
       " 'WindowsError',\n",
       " 'ZeroDivisionError',\n",
       " '__IPYTHON__',\n",
       " '__IPYTHON__active',\n",
       " '__build_class__',\n",
       " '__debug__',\n",
       " '__doc__',\n",
       " '__import__',\n",
       " '__loader__',\n",
       " '__name__',\n",
       " '__package__',\n",
       " '__spec__',\n",
       " 'abs',\n",
       " 'all',\n",
       " 'any',\n",
       " 'ascii',\n",
       " 'bin',\n",
       " 'bool',\n",
       " 'bytearray',\n",
       " 'bytes',\n",
       " 'callable',\n",
       " 'chr',\n",
       " 'classmethod',\n",
       " 'compile',\n",
       " 'complex',\n",
       " 'copyright',\n",
       " 'credits',\n",
       " 'delattr',\n",
       " 'dict',\n",
       " 'dir',\n",
       " 'divmod',\n",
       " 'dreload',\n",
       " 'enumerate',\n",
       " 'eval',\n",
       " 'exec',\n",
       " 'filter',\n",
       " 'float',\n",
       " 'format',\n",
       " 'frozenset',\n",
       " 'get_ipython',\n",
       " 'getattr',\n",
       " 'globals',\n",
       " 'hasattr',\n",
       " 'hash',\n",
       " 'help',\n",
       " 'hex',\n",
       " 'id',\n",
       " 'input',\n",
       " 'int',\n",
       " 'isinstance',\n",
       " 'issubclass',\n",
       " 'iter',\n",
       " 'len',\n",
       " 'license',\n",
       " 'list',\n",
       " 'locals',\n",
       " 'map',\n",
       " 'max',\n",
       " 'memoryview',\n",
       " 'min',\n",
       " 'next',\n",
       " 'object',\n",
       " 'oct',\n",
       " 'open',\n",
       " 'ord',\n",
       " 'pow',\n",
       " 'print',\n",
       " 'property',\n",
       " 'range',\n",
       " 'repr',\n",
       " 'reversed',\n",
       " 'round',\n",
       " 'set',\n",
       " 'setattr',\n",
       " 'slice',\n",
       " 'sorted',\n",
       " 'staticmethod',\n",
       " 'str',\n",
       " 'sum',\n",
       " 'super',\n",
       " 'tuple',\n",
       " 'type',\n",
       " 'vars',\n",
       " 'zip']"
      ]
     },
     "execution_count": 111,
     "metadata": {},
     "output_type": "execute_result"
    }
   ],
   "source": [
    "import builtins\n",
    "dir(builtins)"
   ]
  },
  {
   "cell_type": "markdown",
   "metadata": {},
   "source": [
    "## Packages\n",
    "\n",
    "- A.B designates submodule B in package A\n",
    "- \\__init\\__.py to initialize a package\n",
    "- if 'from package import \\*' is encountered, it checks if \\_\\_init_\\_.py has \\_\\_all\\_\\_ defined as a list - i.e. the list of module names to be imported\n",
    "\n",
    "\n",
    "- Relative imports work too, but make sure main modules have absolute imports"
   ]
  },
  {
   "cell_type": "code",
   "execution_count": 113,
   "metadata": {
    "collapsed": false
   },
   "outputs": [
    {
     "data": {
      "text/plain": [
       "'\\nfrom . import echo\\nfrom .. import formats\\nfrom ..filters import equalizer\\n\\n'"
      ]
     },
     "execution_count": 113,
     "metadata": {},
     "output_type": "execute_result"
    }
   ],
   "source": [
    "'''\n",
    "sound/                          Top-level package\n",
    "      __init__.py               Initialize the sound package\n",
    "      formats/                  Subpackage for file format conversions\n",
    "              __init__.py\n",
    "              wavread.py\n",
    "              wavwrite.py\n",
    "              aiffread.py\n",
    "              aiffwrite.py\n",
    "              auread.py\n",
    "              auwrite.py\n",
    "              ...\n",
    "      effects/                  Subpackage for sound effects\n",
    "              __init__.py\n",
    "              echo.py\n",
    "              surround.py\n",
    "              reverse.py\n",
    "              ...\n",
    "      filters/                  Subpackage for filters\n",
    "              __init__.py\n",
    "              equalizer.py\n",
    "              vocoder.py\n",
    "              karaoke.py\n",
    "              ...\n",
    "'''\n",
    "\n",
    "\n",
    "'''\n",
    "from . import echo\n",
    "from .. import formats\n",
    "from ..filters import equalizer\n",
    "\n",
    "'''"
   ]
  },
  {
   "cell_type": "markdown",
   "metadata": {},
   "source": [
    "## Input and Output\n",
    "\n",
    "str vs repr"
   ]
  },
  {
   "cell_type": "code",
   "execution_count": 121,
   "metadata": {
    "collapsed": false
   },
   "outputs": [
    {
     "data": {
      "text/plain": [
       "'Hello World\\nAll is well.'"
      ]
     },
     "execution_count": 121,
     "metadata": {},
     "output_type": "execute_result"
    }
   ],
   "source": [
    "s = '''Hello World\n",
    "All is well.'''\n",
    "str(s)"
   ]
  },
  {
   "cell_type": "code",
   "execution_count": 122,
   "metadata": {
    "collapsed": false
   },
   "outputs": [
    {
     "data": {
      "text/plain": [
       "\"'Hello World\\\\nAll is well.'\""
      ]
     },
     "execution_count": 122,
     "metadata": {},
     "output_type": "execute_result"
    }
   ],
   "source": [
    "repr(s)"
   ]
  },
  {
   "cell_type": "code",
   "execution_count": 127,
   "metadata": {
    "collapsed": false
   },
   "outputs": [
    {
     "name": "stdout",
     "output_type": "stream",
     "text": [
      " 1   1    1\n",
      " 2   4    8\n",
      " 3   9   27\n",
      " 4  16   64\n",
      " 5  25  125\n",
      " 6  36  216\n",
      " 7  49  343\n",
      " 8  64  512\n",
      " 9  81  729\n",
      "10 100 1000\n"
     ]
    }
   ],
   "source": [
    "#right justify\n",
    "\n",
    "for x in range(1, 11):\n",
    "    print(repr(x).rjust(2), repr(x*x).rjust(3), end=' ')\n",
    "    # Note use of 'end' on previous line\n",
    "    print(repr(x*x*x).rjust(4))\n",
    "    \n",
    "\n"
   ]
  },
  {
   "cell_type": "code",
   "execution_count": 149,
   "metadata": {
    "collapsed": false
   },
   "outputs": [
    {
     "name": "stdout",
     "output_type": "stream",
     "text": [
      " 1   1    1\n",
      " 2   4    8\n",
      " 3   9   27\n",
      " 4  16   64\n",
      " 5  25  125\n",
      " 6  36  216\n",
      " 7  49  343\n",
      " 8  64  512\n",
      " 9  81  729\n",
      "10 100 1000\n"
     ]
    }
   ],
   "source": [
    "# : format specifier can follow field name , allowing more control\n",
    "for x in range(1, 11):\n",
    "    print('{0:2d} {1:3d} {2:4d}'.format(x, x*x, x*x*x))"
   ]
  },
  {
   "cell_type": "markdown",
   "metadata": {},
   "source": [
    "- str.rjust\n",
    "- str.ljust\n",
    "- str.center\n",
    "- str.zfill"
   ]
  },
  {
   "cell_type": "code",
   "execution_count": 150,
   "metadata": {
    "collapsed": false
   },
   "outputs": [
    {
     "data": {
      "text/plain": [
       "'0012'"
      ]
     },
     "execution_count": 150,
     "metadata": {},
     "output_type": "execute_result"
    }
   ],
   "source": [
    "'12'.zfill(4)"
   ]
  },
  {
   "cell_type": "code",
   "execution_count": 151,
   "metadata": {
    "collapsed": false
   },
   "outputs": [
    {
     "data": {
      "text/plain": [
       "'-000001.04'"
      ]
     },
     "execution_count": 151,
     "metadata": {},
     "output_type": "execute_result"
    }
   ],
   "source": [
    "'-1.04'.zfill(10)"
   ]
  },
  {
   "cell_type": "code",
   "execution_count": 152,
   "metadata": {
    "collapsed": false
   },
   "outputs": [
    {
     "name": "stdout",
     "output_type": "stream",
     "text": [
      "We are the knights who say \"Ni!\"\n"
     ]
    }
   ],
   "source": [
    "# Cool formatting\n",
    "print('We are the {} who say \"{}!\"'.format('knights', 'Ni'))\n"
   ]
  },
  {
   "cell_type": "code",
   "execution_count": 153,
   "metadata": {
    "collapsed": false
   },
   "outputs": [
    {
     "name": "stdout",
     "output_type": "stream",
     "text": [
      "spam and eggs\n",
      "eggs and spam\n"
     ]
    }
   ],
   "source": [
    "print('{0} and {1}'.format('spam', 'eggs'))\n",
    "\n",
    "print('{1} and {0}'.format('spam', 'eggs'))"
   ]
  },
  {
   "cell_type": "code",
   "execution_count": 154,
   "metadata": {
    "collapsed": false
   },
   "outputs": [
    {
     "name": "stdout",
     "output_type": "stream",
     "text": [
      "This spam is absolutely horrible.\n"
     ]
    }
   ],
   "source": [
    "print('This {food} is {adjective}.'.format(\n",
    "      food='spam', adjective='absolutely horrible'))"
   ]
  },
  {
   "cell_type": "code",
   "execution_count": 155,
   "metadata": {
    "collapsed": false
   },
   "outputs": [
    {
     "name": "stdout",
     "output_type": "stream",
     "text": [
      "The story of Bill, Manfred, and Georg.\n"
     ]
    }
   ],
   "source": [
    "\n",
    "print('The story of {0}, {1}, and {other}.'.format('Bill', 'Manfred',\n",
    "                                                       other='Georg'))"
   ]
  },
  {
   "cell_type": "markdown",
   "metadata": {},
   "source": [
    "#### File modes\n",
    "\n",
    "- 'r' - read\n",
    "- 'w' - write\n",
    "- 'a' - append\n",
    "- 'r+' - read and write\n",
    "- 'b' - binary ( non text, read as bytes objects )\n",
    "- no arg implies read"
   ]
  },
  {
   "cell_type": "code",
   "execution_count": 169,
   "metadata": {
    "collapsed": false
   },
   "outputs": [
    {
     "name": "stdout",
     "output_type": "stream",
     "text": [
      "Oh my name\n",
      "Oh my name it ain't nothin'\n",
      "\n",
      "Oh my name it ain't nothin'\n",
      "My age it means less\n",
      "The country I come from\n",
      "Is called the Midwest\n",
      "I was taught and brought up there\n",
      "The laws to abide\n",
      "And that land that I live in\n",
      "Has God on its side\n",
      "Oh, the history books tell it\n",
      "They tell it so well\n",
      "The cavalries charged\n",
      "The Indians fell\n",
      "The cavalries charged\n",
      "The Indians died\n",
      "Oh, the country was young\n",
      "With God on its side\n",
      "The Spanish-American\n",
      "War had its day\n",
      "And the Civil War, too\n",
      "Was soon laid away\n",
      "And the names of the heroes\n",
      "I was made to memorize\n",
      "With guns in their hands\n",
      "And God on their side\n",
      "The First World War, boys\n",
      "It came and it went\n",
      "The reason for fighting\n",
      "I never did get\n",
      "But I learned to accept it\n",
      "Accept it with pride\n",
      "For you don't count the dead\n",
      "When God's on your side\n",
      "The Second World War\n",
      "Came to an end\n",
      "We forgave the Germans\n",
      "And then we were friends\n",
      "Though they murdered six million\n",
      "In the ovens they fried\n",
      "The Germans now, too\n",
      "Have God on their side\n",
      "I've learned to hate the Russians\n",
      "All through my whole life\n",
      "If another war comes\n",
      "It's them we must fight\n",
      "To hate them and fear them\n",
      "To run and to hide\n",
      "And accept it all bravely\n",
      "With God on my side\n",
      "But now we got weapons\n",
      "Of chemical dust\n",
      "If fire them, we're forced to\n",
      "Then fire, them we must\n",
      "One push of the button\n",
      "And a shot the world wide\n",
      "And you never ask questions\n",
      "When God's on your side\n",
      "Through many a dark hour\n",
      "I've been thinkin' about this\n",
      "That Jesus Christ was\n",
      "Betrayed by a kiss\n",
      "But I can't think for you\n",
      "You'll have to decide\n",
      "Whether Judas Iscariot\n",
      "Had God on his side.\n",
      "So now as I'm leavin'\n",
      "I'm weary as Hell\n",
      "The confusion I'm feelin'\n",
      "Ain't no tongue can tell\n",
      "The words fill my head\n",
      "And fall to the floor\n",
      "That if God's on our side\n",
      "He'll stop the next war\n"
     ]
    }
   ],
   "source": [
    "\n",
    "\n",
    "file = 'Bob.txt'\n",
    "\n",
    "with open(file, 'r') as f:\n",
    "    print(f.read(10))\n",
    "    \n",
    "with open(file, 'r') as f:\n",
    "    print(f.readline())\n",
    "    \n",
    "with open(file, 'r') as f:\n",
    "    print(f.read())\n",
    "    "
   ]
  },
  {
   "cell_type": "code",
   "execution_count": 170,
   "metadata": {
    "collapsed": false
   },
   "outputs": [
    {
     "name": "stdout",
     "output_type": "stream",
     "text": [
      "Oh my name it ain't nothin'\n",
      "\n",
      "My age it means less\n",
      "\n",
      "The country I come from\n",
      "\n",
      "Is called the Midwest\n",
      "\n",
      "I was taught and brought up there\n",
      "\n",
      "The laws to abide\n",
      "\n",
      "And that land that I live in\n",
      "\n",
      "Has God on its side\n",
      "\n",
      "Oh, the history books tell it\n",
      "\n",
      "They tell it so well\n",
      "\n",
      "The cavalries charged\n",
      "\n",
      "The Indians fell\n",
      "\n",
      "The cavalries charged\n",
      "\n",
      "The Indians died\n",
      "\n",
      "Oh, the country was young\n",
      "\n",
      "With God on its side\n",
      "\n",
      "The Spanish-American\n",
      "\n",
      "War had its day\n",
      "\n",
      "And the Civil War, too\n",
      "\n",
      "Was soon laid away\n",
      "\n",
      "And the names of the heroes\n",
      "\n",
      "I was made to memorize\n",
      "\n",
      "With guns in their hands\n",
      "\n",
      "And God on their side\n",
      "\n",
      "The First World War, boys\n",
      "\n",
      "It came and it went\n",
      "\n",
      "The reason for fighting\n",
      "\n",
      "I never did get\n",
      "\n",
      "But I learned to accept it\n",
      "\n",
      "Accept it with pride\n",
      "\n",
      "For you don't count the dead\n",
      "\n",
      "When God's on your side\n",
      "\n",
      "The Second World War\n",
      "\n",
      "Came to an end\n",
      "\n",
      "We forgave the Germans\n",
      "\n",
      "And then we were friends\n",
      "\n",
      "Though they murdered six million\n",
      "\n",
      "In the ovens they fried\n",
      "\n",
      "The Germans now, too\n",
      "\n",
      "Have God on their side\n",
      "\n",
      "I've learned to hate the Russians\n",
      "\n",
      "All through my whole life\n",
      "\n",
      "If another war comes\n",
      "\n",
      "It's them we must fight\n",
      "\n",
      "To hate them and fear them\n",
      "\n",
      "To run and to hide\n",
      "\n",
      "And accept it all bravely\n",
      "\n",
      "With God on my side\n",
      "\n",
      "But now we got weapons\n",
      "\n",
      "Of chemical dust\n",
      "\n",
      "If fire them, we're forced to\n",
      "\n",
      "Then fire, them we must\n",
      "\n",
      "One push of the button\n",
      "\n",
      "And a shot the world wide\n",
      "\n",
      "And you never ask questions\n",
      "\n",
      "When God's on your side\n",
      "\n",
      "Through many a dark hour\n",
      "\n",
      "I've been thinkin' about this\n",
      "\n",
      "That Jesus Christ was\n",
      "\n",
      "Betrayed by a kiss\n",
      "\n",
      "But I can't think for you\n",
      "\n",
      "You'll have to decide\n",
      "\n",
      "Whether Judas Iscariot\n",
      "\n",
      "Had God on his side.\n",
      "\n",
      "So now as I'm leavin'\n",
      "\n",
      "I'm weary as Hell\n",
      "\n",
      "The confusion I'm feelin'\n",
      "\n",
      "Ain't no tongue can tell\n",
      "\n",
      "The words fill my head\n",
      "\n",
      "And fall to the floor\n",
      "\n",
      "That if God's on our side\n",
      "\n",
      "He'll stop the next war\n"
     ]
    }
   ],
   "source": [
    "with open(file, 'r') as f:\n",
    "    for line in f:\n",
    "        print(line)"
   ]
  },
  {
   "cell_type": "code",
   "execution_count": 175,
   "metadata": {
    "collapsed": false
   },
   "outputs": [
    {
     "name": "stdout",
     "output_type": "stream",
     "text": [
      "16\n",
      "The answer is 42\n"
     ]
    }
   ],
   "source": [
    "with open('new.txt','w') as f:\n",
    "    print(f.write('The answer is '+ str(42))) # returns number of chars written\n",
    "    \n",
    "with open('new.txt', 'r') as f:\n",
    "    for line in f:\n",
    "        print(line)"
   ]
  },
  {
   "cell_type": "markdown",
   "metadata": {},
   "source": [
    "- f.seek(offset, from_what) - from_what - 0:beginning (default), 1:current pos, 2:e_o_file\n",
    "- f.tell() - return int no. of bytes from beginning in binary"
   ]
  },
  {
   "cell_type": "markdown",
   "metadata": {},
   "source": [
    "#### You can save data in JSON format. \n",
    "\n",
    "Python module __json__ can be used for __serializing__(string representation of python data hierarchies) and __deserializing__(reconstructing from string rep) "
   ]
  },
  {
   "cell_type": "code",
   "execution_count": 182,
   "metadata": {
    "collapsed": false
   },
   "outputs": [
    {
     "name": "stdout",
     "output_type": "stream",
     "text": [
      "[1, \"simple\", \"list\"]\n"
     ]
    }
   ],
   "source": [
    "import json\n",
    "d = json.dumps([1, 'simple', 'list'])\n",
    "print(d)"
   ]
  },
  {
   "cell_type": "code",
   "execution_count": 188,
   "metadata": {
    "collapsed": false
   },
   "outputs": [
    {
     "name": "stdout",
     "output_type": "stream",
     "text": [
      "[1, 'a', 'b']\n"
     ]
    }
   ],
   "source": [
    "with open('file.json', 'w') as f:\n",
    "    json.dump([1,'a','b'], f)\n",
    "with open('file.json', 'r') as f:\n",
    "    x = json.load(f)\n",
    "print(x)"
   ]
  },
  {
   "cell_type": "markdown",
   "metadata": {},
   "source": [
    "### Errors and Exceptions\n"
   ]
  },
  {
   "cell_type": "code",
   "execution_count": 1,
   "metadata": {
    "collapsed": true
   },
   "outputs": [],
   "source": [
    "try:  \n",
    "    pass  \n",
    "except:  \n",
    "    pass  \n",
    "else :  \n",
    "    pass  \n",
    "finally:\n",
    "    pass"
   ]
  },
  {
   "cell_type": "code",
   "execution_count": 2,
   "metadata": {
    "collapsed": false
   },
   "outputs": [
    {
     "name": "stdout",
     "output_type": "stream",
     "text": [
      "<class 'Exception'>\n",
      "('spam', 'eggs')\n",
      "('spam', 'eggs')\n",
      "x = spam\n",
      "y = eggs\n"
     ]
    }
   ],
   "source": [
    "# except clause may specify a variable after exception name\n",
    "# the variable is bound to an Exception instance with args stored in instance.args\n",
    "\n",
    "try:\n",
    "    raise Exception('spam', 'eggs')\n",
    "except Exception as inst:\n",
    "    print(type(inst))    # the exception instance\n",
    "    print(inst.args)     # arguments stored in .args\n",
    "    print(inst)          # __str__ allows args to be printed directly,\n",
    "                        # but may be overridden in exception subclasses\n",
    "    x, y = inst.args     # unpack args\n",
    "    print('x =', x)\n",
    "    print('y =', y)\n"
   ]
  },
  {
   "cell_type": "code",
   "execution_count": 10,
   "metadata": {
    "collapsed": false
   },
   "outputs": [
    {
     "name": "stdout",
     "output_type": "stream",
     "text": [
      "Human injured?y\n",
      "Violation of First law. Human being has come to harm\n",
      "Kill yourself. Robots have ceased to exist in the Galactic Empire\n"
     ]
    }
   ],
   "source": [
    "# User defined exceptions\n",
    "\n",
    "class DaneelException(Exception) :\n",
    "    def __init__(self, value):\n",
    "        self.value = value\n",
    "    def __str__(self):\n",
    "        return repr(self.value)\n",
    "    \n",
    "    \n",
    "try:\n",
    "    a= input('Human injured?')\n",
    "    if a == 'y':\n",
    "        raise DaneelException('Human being has come to harm')\n",
    "except DaneelException as e:\n",
    "    print('Violation of First law.', e.value)\n",
    "else:\n",
    "    print('All is well')\n",
    "finally:\n",
    "    print('Kill yourself. Robots have ceased to exist in the Galactic Empire')\n",
    "    "
   ]
  },
  {
   "cell_type": "markdown",
   "metadata": {},
   "source": [
    "### Classes and Scope\n",
    "\n",
    "__Scopes__  \n",
    "- the innermost scope, which is searched first, contains the local names\n",
    "- the scopes of any enclosing functions, which are searched starting with the nearest enclosing scope, contains non-local, but also non-global names\n",
    "- the next-to-last scope contains the current module’s global names\n",
    "- the outermost scope (searched last) is the namespace containing built-in names  \n",
    "\n",
    "\n",
    "__Global vs local__  \n",
    "\n",
    "- Assignments bind names to objects\n",
    "- if assigned global, all references go directly to middle scope containing global names\n",
    "- if no global and assignment, then innermost scope i.e. local\n"
   ]
  },
  {
   "cell_type": "code",
   "execution_count": 14,
   "metadata": {
    "collapsed": false
   },
   "outputs": [
    {
     "name": "stdout",
     "output_type": "stream",
     "text": [
      "After local assignment: test spam\n",
      "After nonlocal assignment: nonlocal spam\n",
      "After global assignment: nonlocal spam\n",
      "In global scope: global spam\n"
     ]
    }
   ],
   "source": [
    "# scopes and namespaces\n",
    "\n",
    "def scope_test():\n",
    "    def do_local(): # local\n",
    "        spam = \"local spam\"\n",
    "    def do_nonlocal(): # outside innermost scope\n",
    "        nonlocal spam\n",
    "        spam = \"nonlocal spam\"\n",
    "    def do_global(): # global scope\n",
    "        global spam\n",
    "        spam = \"global spam\"\n",
    "    spam = \"test spam\"\n",
    "    do_local()\n",
    "    print(\"After local assignment:\", spam)\n",
    "    do_nonlocal()\n",
    "    print(\"After nonlocal assignment:\", spam)\n",
    "    do_global()\n",
    "    print(\"After global assignment:\", spam)\n",
    "\n",
    "scope_test()\n",
    "print(\"In global scope:\", spam)\n"
   ]
  },
  {
   "cell_type": "markdown",
   "metadata": {},
   "source": [
    "### Classes"
   ]
  },
  {
   "cell_type": "code",
   "execution_count": 15,
   "metadata": {
    "collapsed": false
   },
   "outputs": [
    {
     "name": "stdout",
     "output_type": "stream",
     "text": [
      "1234\n",
      "<bound method ClassTest.f of <__main__.ClassTest object at 0x000000000411E198>>\n"
     ]
    }
   ],
   "source": [
    "# defining classes\n",
    "class ClassTest:\n",
    "    '''An example class'''\n",
    "    i = 1234\n",
    "    def f(self):\n",
    "        return 'hi'\n",
    "\n",
    "# instantiating classes\n",
    "x = ClassTest()\n",
    "print(x.i)\n",
    "print(x.f)"
   ]
  },
  {
   "cell_type": "code",
   "execution_count": 21,
   "metadata": {
    "collapsed": false
   },
   "outputs": [
    {
     "name": "stdout",
     "output_type": "stream",
     "text": [
      "1 -4\n",
      "1 + -4j\n"
     ]
    }
   ],
   "source": [
    "class Complex:\n",
    "    def __init__(self, real, imag):\n",
    "        self.r = real\n",
    "        self.i = imag\n",
    "    def __str__(self):\n",
    "        return str(x.r)+ ' + ' + str(x.i)+'j'\n",
    "        \n",
    "x = Complex(1,-4)\n",
    "print(x.r, x.i)\n",
    "print(x)"
   ]
  },
  {
   "cell_type": "code",
   "execution_count": 23,
   "metadata": {
    "collapsed": false
   },
   "outputs": [
    {
     "name": "stdout",
     "output_type": "stream",
     "text": [
      "Goofy ['roll over'] canine\n",
      "Scooby ['play dead'] canine\n"
     ]
    }
   ],
   "source": [
    "# class vs instance variable\n",
    "\n",
    "class Dog:\n",
    "    \n",
    "    kind = 'canine'  # class variable\n",
    "    \n",
    "    def __init__(self, name):\n",
    "        self.name = name # instance variable\n",
    "        self.tricks = []\n",
    "        \n",
    "    def add_trick(self, trick): # class method\n",
    "        self.tricks.append(trick)\n",
    "        \n",
    "d = Dog('Goofy')\n",
    "e = Dog('Scooby')\n",
    "\n",
    "d.add_trick('roll over')\n",
    "e.add_trick('play dead')\n",
    "\n",
    "print(d.name, d.tricks, d.kind)\n",
    "print(e.name, e.tricks, e.kind)\n",
    "\n",
    "    "
   ]
  },
  {
   "cell_type": "code",
   "execution_count": 24,
   "metadata": {
    "collapsed": true
   },
   "outputs": [],
   "source": [
    "# Function defined outside the class\n",
    "def f1(self, x, y):\n",
    "    return min(x, x+y)\n",
    "\n",
    "class C:\n",
    "    f = f1\n",
    "    def g(self):\n",
    "        return 'hello world'\n",
    "    h = g"
   ]
  },
  {
   "cell_type": "markdown",
   "metadata": {},
   "source": [
    "### Inheritance"
   ]
  },
  {
   "cell_type": "code",
   "execution_count": 34,
   "metadata": {
    "collapsed": false
   },
   "outputs": [
    {
     "name": "stdout",
     "output_type": "stream",
     "text": [
      "X\n",
      "Y\n"
     ]
    }
   ],
   "source": [
    "class Parent:\n",
    "    def __init__(self, name):\n",
    "        self.name = name\n",
    "        \n",
    "    def fun(self):\n",
    "        print(self.name)\n",
    "    \n",
    "\n",
    "class Child(Parent):\n",
    "    def __init__(self, name):\n",
    "        super().__init__(name)\n",
    "        \n",
    "          \n",
    "    def fun(self):\n",
    "        print(self.name)\n",
    "\n",
    "\n",
    "x = Parent('X')\n",
    "y = Child('Y')\n",
    "\n",
    "x.fun()\n",
    "y.fun()\n",
    "           \n",
    "        "
   ]
  },
  {
   "cell_type": "code",
   "execution_count": 36,
   "metadata": {
    "collapsed": false
   },
   "outputs": [
    {
     "name": "stdout",
     "output_type": "stream",
     "text": [
      "False\n",
      "True\n"
     ]
    }
   ],
   "source": [
    "obj = 1+2j\n",
    "print(isinstance(obj, int)) # check if obj is an instance of or derived from int\n",
    "print(issubclass(bool,int)) # check if bool is subclass of int"
   ]
  },
  {
   "cell_type": "markdown",
   "metadata": {},
   "source": [
    "- multiple inheritance :  left to right order \n",
    "- Not really. More complex - linear monotonic (parental call order preserved)\n",
    "- All classes inherit from object\n",
    "\n"
   ]
  },
  {
   "cell_type": "markdown",
   "metadata": {},
   "source": [
    "#### Private variables\n",
    "\n",
    "Any variable of the form \\_\\_spam is replaced by \\_classname\\_\\_spam"
   ]
  },
  {
   "cell_type": "code",
   "execution_count": 41,
   "metadata": {
    "collapsed": false
   },
   "outputs": [],
   "source": [
    "class Mapping:\n",
    "    def __init__(self, iterable):\n",
    "        self.items_list = []\n",
    "        self.__update(iterable)\n",
    "\n",
    "    def update(self, iterable):\n",
    "        for item in iterable:\n",
    "            self.items_list.append(item)\n",
    "\n",
    "    __update = update   # private copy of original update() method\n",
    "\n",
    "class MappingSubclass(Mapping):\n",
    "\n",
    "    def update(self, keys, values):\n",
    "        # provides new signature for update()\n",
    "        # but does not break __init__()\n",
    "        for item in zip(keys, values):\n",
    "            self.items_list.append(item)\n",
    "            \n",
    "            \n"
   ]
  },
  {
   "cell_type": "markdown",
   "metadata": {},
   "source": [
    "### Iterators\n",
    "\n",
    "The use of iterators is wonderful\n",
    "\n",
    "- the for statement calls iter() on container obj\n",
    "- the function returns iterator obj that defines \\_\\_next\\_\\_() method - which accesses elements of the container one at a time\n",
    "- raises a StopIteration exception once elements are over which tells for loop to terminate\n",
    "- next() calls \\_\\_next\\_\\_"
   ]
  },
  {
   "cell_type": "code",
   "execution_count": 44,
   "metadata": {
    "collapsed": false
   },
   "outputs": [
    {
     "name": "stdout",
     "output_type": "stream",
     "text": [
      "<str_iterator object at 0x0000000004116470>\n",
      "A\n",
      "r\n",
      "j\n",
      "u\n",
      "n\n",
      "i\n",
      "l\n"
     ]
    },
    {
     "ename": "StopIteration",
     "evalue": "",
     "output_type": "error",
     "traceback": [
      "\u001b[1;31m---------------------------------------------------------------------------\u001b[0m",
      "\u001b[1;31mStopIteration\u001b[0m                             Traceback (most recent call last)",
      "\u001b[1;32m<ipython-input-44-97b4aaf8954f>\u001b[0m in \u001b[0;36m<module>\u001b[1;34m()\u001b[0m\n\u001b[0;32m     15\u001b[0m \u001b[0mprint\u001b[0m\u001b[1;33m(\u001b[0m\u001b[0mnext\u001b[0m\u001b[1;33m(\u001b[0m\u001b[0mi\u001b[0m\u001b[1;33m)\u001b[0m\u001b[1;33m)\u001b[0m\u001b[1;33m\u001b[0m\u001b[0m\n\u001b[0;32m     16\u001b[0m \u001b[0mprint\u001b[0m\u001b[1;33m(\u001b[0m\u001b[0mnext\u001b[0m\u001b[1;33m(\u001b[0m\u001b[0mi\u001b[0m\u001b[1;33m)\u001b[0m\u001b[1;33m)\u001b[0m\u001b[1;33m\u001b[0m\u001b[0m\n\u001b[1;32m---> 17\u001b[1;33m \u001b[0mprint\u001b[0m\u001b[1;33m(\u001b[0m\u001b[0mnext\u001b[0m\u001b[1;33m(\u001b[0m\u001b[0mi\u001b[0m\u001b[1;33m)\u001b[0m\u001b[1;33m)\u001b[0m\u001b[1;33m\u001b[0m\u001b[0m\n\u001b[0m\u001b[0;32m     18\u001b[0m \u001b[1;33m\u001b[0m\u001b[0m\n",
      "\u001b[1;31mStopIteration\u001b[0m: "
     ]
    }
   ],
   "source": [
    "# Example of next\n",
    "\n",
    "\n",
    "s= 'Arjunil'\n",
    "\n",
    "i = iter(s)\n",
    "\n",
    "print(i)\n",
    "\n",
    "print(next(i))\n",
    "print(next(i))\n",
    "print(next(i))\n",
    "print(next(i))\n",
    "print(next(i))\n",
    "print(next(i))\n",
    "print(next(i))\n",
    "print(next(i))\n",
    "\n"
   ]
  },
  {
   "cell_type": "code",
   "execution_count": 51,
   "metadata": {
    "collapsed": false
   },
   "outputs": [
    {
     "name": "stdout",
     "output_type": "stream",
     "text": [
      "v\n",
      "o\n",
      "m\n",
      "i\n",
      "s\n",
      "\n",
      "Test 2\n",
      "\n",
      "m\n",
      "a\n",
      "p\n",
      "s\n"
     ]
    }
   ],
   "source": [
    "class Reverse:\n",
    "    '''Iterator for looping over sequence backwards'''\n",
    "    \n",
    "    def __init__(self, data):\n",
    "        self.data = data\n",
    "        self.index = len(data)\n",
    "        \n",
    "    def __iter__(self):\n",
    "        return self\n",
    "    \n",
    "    def __next__(self):\n",
    "        if self.index == 0:\n",
    "            raise StopIteration\n",
    "        self.index -= 1\n",
    "        return self.data[self.index]\n",
    "    \n",
    "    \n",
    "rev = Reverse('asimov')\n",
    "\n",
    "print(rev.__next__())\n",
    "print(rev.__next__())\n",
    "print(rev.__next__())\n",
    "print(rev.__next__())\n",
    "print(rev.__next__())\n",
    "\n",
    "rev2= Reverse('spam')\n",
    "\n",
    "print('\\nTest 2\\n')\n",
    "\n",
    "for char in rev2:\n",
    "    print(char)\n"
   ]
  },
  {
   "cell_type": "markdown",
   "metadata": {},
   "source": [
    "### Generators\n",
    "\n",
    "- tool for creating iterators\n",
    "- uses yield to return data\n",
    "- next() calls on generator causes it to resume where it left off\n",
    "- create iter and next automatically\n",
    "- local variables and exec state automatically saved between calls\n",
    "- auto raise StopIteration\n",
    "- Generator expressions - more memory friendly than equivalent list comprehensions"
   ]
  },
  {
   "cell_type": "code",
   "execution_count": 52,
   "metadata": {
    "collapsed": false
   },
   "outputs": [
    {
     "name": "stdout",
     "output_type": "stream",
     "text": [
      "m\n",
      "a\n",
      "p\n",
      "s\n"
     ]
    }
   ],
   "source": [
    "def reverse(data):\n",
    "    for index in range(len(data)-1, -1, -1):\n",
    "        yield data[index]\n",
    "        \n",
    "        \n",
    "        \n",
    "for char in reverse('spam'):\n",
    "    print(char)"
   ]
  },
  {
   "cell_type": "code",
   "execution_count": 54,
   "metadata": {
    "collapsed": false
   },
   "outputs": [
    {
     "name": "stdout",
     "output_type": "stream",
     "text": [
      "m\n",
      "a\n",
      "p\n",
      "s\n"
     ]
    }
   ],
   "source": [
    "rev = reverse('spam')\n",
    "print(next(rev))\n",
    "print(next(rev))\n",
    "print(next(rev))\n",
    "print(next(rev))"
   ]
  },
  {
   "cell_type": "code",
   "execution_count": 55,
   "metadata": {
    "collapsed": false
   },
   "outputs": [
    {
     "data": {
      "text/plain": [
       "285"
      ]
     },
     "execution_count": 55,
     "metadata": {},
     "output_type": "execute_result"
    }
   ],
   "source": [
    "sum(i*i for i in range(10))"
   ]
  },
  {
   "cell_type": "code",
   "execution_count": 60,
   "metadata": {
    "collapsed": false
   },
   "outputs": [
    {
     "name": "stdout",
     "output_type": "stream",
     "text": [
      "[0, 10, 20, 30] [0, 3, 6, 9]\n"
     ]
    },
    {
     "data": {
      "text/plain": [
       "420"
      ]
     },
     "execution_count": 60,
     "metadata": {},
     "output_type": "execute_result"
    }
   ],
   "source": [
    "xvec = [i for i in range(0,40,10)]\n",
    "yvec = [i for i in range(0,10,3)]\n",
    "print(xvec, yvec)\n",
    "sum(x*y for x,y in zip(xvec,yvec))"
   ]
  },
  {
   "cell_type": "markdown",
   "metadata": {},
   "source": [
    "## Touring the Standard Lib"
   ]
  },
  {
   "cell_type": "code",
   "execution_count": 81,
   "metadata": {
    "collapsed": false
   },
   "outputs": [],
   "source": [
    "import os\n",
    "#os.getcwd() #get current working dir\n",
    "#dir(os)\n",
    "#help(os)"
   ]
  },
  {
   "cell_type": "code",
   "execution_count": 67,
   "metadata": {
    "collapsed": false
   },
   "outputs": [
    {
     "data": {
      "text/plain": [
       "['Bob.txt', 'new.txt']"
      ]
     },
     "execution_count": 67,
     "metadata": {},
     "output_type": "execute_result"
    }
   ],
   "source": [
    "# make lists from directory wildcard searches\n",
    "import glob\n",
    "glob.glob('*.txt')\n"
   ]
  },
  {
   "cell_type": "code",
   "execution_count": 69,
   "metadata": {
    "collapsed": false
   },
   "outputs": [],
   "source": [
    "# command line args stored in argv \n",
    "\n",
    "import sys\n",
    "#print(sys.argv)"
   ]
  },
  {
   "cell_type": "code",
   "execution_count": 71,
   "metadata": {
    "collapsed": false
   },
   "outputs": [
    {
     "name": "stderr",
     "output_type": "stream",
     "text": [
      "Warning, log file not found starting a new one\n"
     ]
    }
   ],
   "source": [
    "# When stdout has been redirected but an error needs displaying\n",
    "\n",
    "sys.stderr.write('Warning, log file not found starting a new one\\n')\n",
    "\n",
    "#to exit prog directly\n",
    "#sys.exit()"
   ]
  },
  {
   "cell_type": "code",
   "execution_count": 72,
   "metadata": {
    "collapsed": false
   },
   "outputs": [
    {
     "data": {
      "text/plain": [
       "['foot', 'fell', 'fastest']"
      ]
     },
     "execution_count": 72,
     "metadata": {},
     "output_type": "execute_result"
    }
   ],
   "source": [
    "# Regex\n",
    "\n",
    "import re\n",
    "\n",
    "re.findall(r'f[a-z]*','which foot or hand fell fastest')"
   ]
  },
  {
   "cell_type": "code",
   "execution_count": 73,
   "metadata": {
    "collapsed": false
   },
   "outputs": [
    {
     "data": {
      "text/plain": [
       "'cat in the hat'"
      ]
     },
     "execution_count": 73,
     "metadata": {},
     "output_type": "execute_result"
    }
   ],
   "source": [
    "re.sub(r'(\\b[a-z]+) \\1', r'\\1', 'cat in in the the hat hat' )"
   ]
  },
  {
   "cell_type": "code",
   "execution_count": 74,
   "metadata": {
    "collapsed": false
   },
   "outputs": [
    {
     "data": {
      "text/plain": [
       "'tea for two'"
      ]
     },
     "execution_count": 74,
     "metadata": {},
     "output_type": "execute_result"
    }
   ],
   "source": [
    "# simple stuff\n",
    "\n",
    "'tea for too'.replace('too', 'two')"
   ]
  },
  {
   "cell_type": "markdown",
   "metadata": {},
   "source": [
    "### Many more possibilities - common libraries\n",
    "- math\n",
    "- random\n",
    "- statistics\n",
    "- urllib/ requests\n",
    "- datetime\n",
    "- data compression using zlib\n",
    "- performance measurement using timeit\n",
    "- unittest\n",
    "- json\n",
    "- csv"
   ]
  },
  {
   "cell_type": "code",
   "execution_count": 77,
   "metadata": {
    "collapsed": false
   },
   "outputs": [
    {
     "name": "stdout",
     "output_type": "stream",
     "text": [
      "0.17532788886028072\n",
      "0.1471154571300204\n"
     ]
    }
   ],
   "source": [
    "from timeit import Timer\n",
    "  \n",
    "    \n",
    "print(Timer('t=a; a=b; b=t', 'a=1;b=2').timeit())\n",
    "print(Timer('a,b=b,a;', 'a=1;b=2').timeit())"
   ]
  },
  {
   "cell_type": "markdown",
   "metadata": {},
   "source": [
    "## Playing around with virtual environments"
   ]
  },
  {
   "cell_type": "code",
   "execution_count": 80,
   "metadata": {
    "collapsed": false
   },
   "outputs": [],
   "source": [
    "doc = '''\n",
    "pyvenv tutorial-env # create virtual environment\n",
    "tutorial-env/Scripts/activate # Acvtivate env on Windows\n",
    "source tutorial-env/bin/activate # On Linux\n",
    "\n",
    "# then go install special packages\n",
    "\n",
    "pip install requests\n",
    "pip uninstall requests\n",
    "pip show requests\n",
    "pip list\n",
    "pip freeze > requirements.txt\n",
    "pip install -r requirements.txt\n",
    "\n",
    "'''"
   ]
  },
  {
   "cell_type": "markdown",
   "metadata": {},
   "source": [
    "# Now you know a lot. Go explore more!\n",
    "\n",
    "# Rule the world with code!"
   ]
  }
 ],
 "metadata": {
  "kernelspec": {
   "display_name": "Python 3",
   "language": "python",
   "name": "python3"
  },
  "language_info": {
   "codemirror_mode": {
    "name": "ipython",
    "version": 3
   },
   "file_extension": ".py",
   "mimetype": "text/x-python",
   "name": "python",
   "nbconvert_exporter": "python",
   "pygments_lexer": "ipython3",
   "version": "3.5.1"
  }
 },
 "nbformat": 4,
 "nbformat_minor": 0
}
