{
 "cells": [
  {
   "cell_type": "markdown",
   "metadata": {},
   "source": [
    "# Welcome to the python revision\n",
    "We will run through the official at https://docs.python.org/3.4/tutorial/introduction.html to brush up on our python skills.\n",
    "And maybe even work on differentiating 2 from 3. \n",
    "Unless otherwise specified all content found here will be in python 3."
   ]
  },
  {
   "cell_type": "code",
   "execution_count": 1,
   "metadata": {
    "collapsed": false
   },
   "outputs": [
    {
     "name": "stdout",
     "output_type": "stream",
     "text": [
      "1.6\n",
      "1\n"
     ]
    }
   ],
   "source": [
    "# Welcome to the math. Division does not explicitly need to be specified as float.\n",
    "\n",
    "print(8/5)\n",
    "\n",
    "# But integer division is still possible - floor division\n",
    "\n",
    "print(8//5)"
   ]
  },
  {
   "cell_type": "code",
   "execution_count": 2,
   "metadata": {
    "collapsed": false
   },
   "outputs": [
    {
     "data": {
      "text/plain": [
       "1024"
      ]
     },
     "execution_count": 2,
     "metadata": {},
     "output_type": "execute_result"
    }
   ],
   "source": [
    "# Powers come easy\n",
    "2**10"
   ]
  },
  {
   "cell_type": "code",
   "execution_count": 3,
   "metadata": {
    "collapsed": false
   },
   "outputs": [
    {
     "data": {
      "text/plain": [
       "200"
      ]
     },
     "execution_count": 3,
     "metadata": {},
     "output_type": "execute_result"
    }
   ],
   "source": [
    "p = 10\n",
    "q = 20\n",
    "p*q"
   ]
  },
  {
   "cell_type": "code",
   "execution_count": 4,
   "metadata": {
    "collapsed": false
   },
   "outputs": [
    {
     "data": {
      "text/plain": [
       "400"
      ]
     },
     "execution_count": 4,
     "metadata": {},
     "output_type": "execute_result"
    }
   ],
   "source": [
    "# Understand this little piece of magic. The last printed expression is assigned to the variable _\n",
    "\n",
    "_+_ # voila!"
   ]
  },
  {
   "cell_type": "code",
   "execution_count": 5,
   "metadata": {
    "collapsed": false
   },
   "outputs": [
    {
     "data": {
      "text/plain": [
       "(7+13j)"
      ]
     },
     "execution_count": 5,
     "metadata": {},
     "output_type": "execute_result"
    }
   ],
   "source": [
    "# Complex numbers?\n",
    "a = 3 + 5j\n",
    "b = 4 + 8j\n",
    "a+b"
   ]
  },
  {
   "cell_type": "markdown",
   "metadata": {},
   "source": [
    "### Types so far\n",
    "- int\n",
    "- float\n",
    "- complex (built in support)"
   ]
  },
  {
   "cell_type": "code",
   "execution_count": 6,
   "metadata": {
    "collapsed": false
   },
   "outputs": [
    {
     "name": "stdout",
     "output_type": "stream",
     "text": [
      "\"Hi there, python is cool!\", said everyone who ever used it.\n"
     ]
    }
   ],
   "source": [
    "# Strings anyone?\n",
    "string = '\\\"Hi there, python is cool!\\\", said everyone who ever used it.'\n",
    "print(string)"
   ]
  },
  {
   "cell_type": "code",
   "execution_count": 7,
   "metadata": {
    "collapsed": false
   },
   "outputs": [
    {
     "data": {
      "text/plain": [
       "'And if i wanted to i could say 2/2 is 1'"
      ]
     },
     "execution_count": 7,
     "metadata": {},
     "output_type": "execute_result"
    }
   ],
   "source": [
    "r'And if i wanted to i could say 2/2 is 1'\n",
    "# '/' can be used by using raw strings as above"
   ]
  },
  {
   "cell_type": "code",
   "execution_count": 8,
   "metadata": {
    "collapsed": false
   },
   "outputs": [
    {
     "name": "stdout",
     "output_type": "stream",
     "text": [
      "Doc strings\n",
      "work best\n",
      "this way\n"
     ]
    }
   ],
   "source": [
    "doc ='''Doc strings\n",
    "work best\n",
    "this way'''\n",
    "\n",
    "print(doc)"
   ]
  },
  {
   "cell_type": "code",
   "execution_count": 9,
   "metadata": {
    "collapsed": false
   },
   "outputs": [
    {
     "name": "stdout",
     "output_type": "stream",
     "text": [
      "concat works fine\n"
     ]
    }
   ],
   "source": [
    "# Concatenation is awesome\n",
    "space = ' '\n",
    "print('concat'+space+'works'+space+'fine')"
   ]
  },
  {
   "cell_type": "code",
   "execution_count": 10,
   "metadata": {
    "collapsed": false
   },
   "outputs": [
    {
     "data": {
      "text/plain": [
       "'unununium'"
      ]
     },
     "execution_count": 10,
     "metadata": {},
     "output_type": "execute_result"
    }
   ],
   "source": [
    "# String multiplication - whaa ?\n",
    "\n",
    "3*'un'+'ium'"
   ]
  },
  {
   "cell_type": "code",
   "execution_count": 11,
   "metadata": {
    "collapsed": false
   },
   "outputs": [
    {
     "data": {
      "text/plain": [
       "'PythonIsAwesome'"
      ]
     },
     "execution_count": 11,
     "metadata": {},
     "output_type": "execute_result"
    }
   ],
   "source": [
    "# Two or more string literals (i.e. the ones enclosed between quotes) next \n",
    "# to each other are automatically concatenated.\n",
    "\n",
    "'Py' 'thon' 'Is' 'Awesome'\n",
    "\n",
    "# This only works with two literals though, not with variables or expressions"
   ]
  },
  {
   "cell_type": "code",
   "execution_count": 12,
   "metadata": {
    "collapsed": false
   },
   "outputs": [
    {
     "name": "stdout",
     "output_type": "stream",
     "text": [
      "Full : Python\n",
      "Full : Python\n",
      "last letter : n\n",
      "reversal : nohtyP\n",
      "step two : Pto\n",
      "simple slice : Pyt\n",
      "on\n"
     ]
    }
   ],
   "source": [
    "word = 'Python'\n",
    "# String indexing is easy and cool and slicing is stunning\n",
    "\n",
    "print('Full :', word[:])\n",
    "print('Full :', word)\n",
    "print('last letter :', word[-1]) # reverse indexing\n",
    "print('reversal :', word[::-1]) # The idea is start, end(excluded), step\n",
    "print('step two :', word[::2])\n",
    "print('simple slice :', word[:3])\n",
    "print(word[-2:]) # -2 to end\n",
    "\n"
   ]
  },
  {
   "cell_type": "code",
   "execution_count": 13,
   "metadata": {
    "collapsed": false
   },
   "outputs": [
    {
     "name": "stdout",
     "output_type": "stream",
     "text": [
      "on Here\n",
      "There is nothing\n"
     ]
    }
   ],
   "source": [
    "# Out of range slice indexes are handled gracefully when used for slicing:\n",
    "\n",
    "print(word[4:42], 'Here')\n",
    "print(word[42:]+'There is nothing')\n"
   ]
  },
  {
   "cell_type": "markdown",
   "metadata": {},
   "source": [
    "### Strings are immutable\n",
    "#### Assignment to indices is not possible\n"
   ]
  },
  {
   "cell_type": "code",
   "execution_count": 14,
   "metadata": {
    "collapsed": false
   },
   "outputs": [
    {
     "data": {
      "text/plain": [
       "34"
      ]
     },
     "execution_count": 14,
     "metadata": {},
     "output_type": "execute_result"
    }
   ],
   "source": [
    "s = 'supercalifragilisticexpialidocious'\n",
    "len(s) # use len generously"
   ]
  },
  {
   "cell_type": "markdown",
   "metadata": {},
   "source": [
    "## Welcome to LISTS"
   ]
  },
  {
   "cell_type": "code",
   "execution_count": 15,
   "metadata": {
    "collapsed": false
   },
   "outputs": [
    {
     "name": "stdout",
     "output_type": "stream",
     "text": [
      "[1, 2, 3, 4, 5]\n",
      "[1, 4, 9, 16, 25]\n"
     ]
    }
   ],
   "source": [
    "numbers = [i for i in range(1,6)]\n",
    "print(numbers)\n",
    "squares = [i*i for i in numbers]\n",
    "print(squares)"
   ]
  },
  {
   "cell_type": "code",
   "execution_count": 16,
   "metadata": {
    "collapsed": false
   },
   "outputs": [
    {
     "name": "stdout",
     "output_type": "stream",
     "text": [
      "1\n",
      "new:  [1, 4, 9, 16, 25]\n",
      "new:  [1, 4, 9, 16, 25]\n",
      "old:  [0, 4, 9, 16, 25]\n",
      "squares:  [0, 4, 9, 16, 25]\n"
     ]
    }
   ],
   "source": [
    "# List indexing works as expected\n",
    "print(squares[0])\n",
    "\n",
    "# List slicing returns a newlist(shallow copy)\n",
    "old = squares\n",
    "new = squares[:]\n",
    "\n",
    "print('new: ', new)\n",
    "old[0] = 0\n",
    "print('new: ', new)\n",
    "print('old: ', old)\n",
    "print('squares: ', squares)"
   ]
  },
  {
   "cell_type": "code",
   "execution_count": 17,
   "metadata": {
    "collapsed": false
   },
   "outputs": [
    {
     "data": {
      "text/plain": [
       "[1, 4, 2, 3, 4]"
      ]
     },
     "execution_count": 17,
     "metadata": {},
     "output_type": "execute_result"
    }
   ],
   "source": [
    "new[2:5] = [2, 3, 4]\n",
    "new"
   ]
  },
  {
   "cell_type": "markdown",
   "metadata": {},
   "source": [
    "### More about lists\n",
    "- List concat works just like string concat\n",
    "- Lists are mutable\n",
    "- append, extend make life easier\n",
    "- assignments to slices is possible\n",
    "- len works here too\n",
    "- lists can be nested\n"
   ]
  },
  {
   "cell_type": "markdown",
   "metadata": {},
   "source": [
    "## Now into control flows - conditionals\n",
    "\n",
    "- if elif else\n",
    "- for\n",
    "- while\n",
    "- break \n",
    "- continue\n",
    "- pass\n"
   ]
  },
  {
   "cell_type": "code",
   "execution_count": 18,
   "metadata": {
    "collapsed": false
   },
   "outputs": [
    {
     "name": "stdout",
     "output_type": "stream",
     "text": [
      "Enter an int: 0\n",
      "abysmal\n"
     ]
    }
   ],
   "source": [
    "# Does input work here?\n",
    "x = int(input('Enter an int: '))\n",
    "if x > 10 :\n",
    "    print('sure - that totally matters')\n",
    "elif x > 5 :\n",
    "    print('could you be any less ambitious')\n",
    "else :\n",
    "    print('abysmal')\n",
    "    "
   ]
  },
  {
   "cell_type": "code",
   "execution_count": 19,
   "metadata": {
    "collapsed": false
   },
   "outputs": [
    {
     "name": "stdout",
     "output_type": "stream",
     "text": [
      "0\n",
      "1\n",
      "2\n",
      "3\n",
      "4\n",
      "5\n",
      "6\n",
      "7\n",
      "8\n",
      "9\n"
     ]
    }
   ],
   "source": [
    "# for loops\n",
    "numbers = range(10)\n",
    "for i in numbers:\n",
    "    print(i)"
   ]
  },
  {
   "cell_type": "code",
   "execution_count": 20,
   "metadata": {
    "collapsed": false
   },
   "outputs": [
    {
     "data": {
      "text/plain": [
       "['small', 'big', 'massive', 'enormous']"
      ]
     },
     "execution_count": 20,
     "metadata": {},
     "output_type": "execute_result"
    }
   ],
   "source": [
    "# Here's a funny piece - slice creates a copy so that things don't get\n",
    "# muddled during looping. WARNING - do not remove the slicing\n",
    "# if you do not heed the warning, deal with the consequences\n",
    "\n",
    "words = ['small', 'big', 'massive']\n",
    "for w in words[:]:\n",
    "    if len(w) > 5:\n",
    "        words.append('enormous')\n",
    "words"
   ]
  },
  {
   "cell_type": "code",
   "execution_count": 21,
   "metadata": {
    "collapsed": false
   },
   "outputs": [
    {
     "name": "stdout",
     "output_type": "stream",
     "text": [
      "[0, 2, 4, 6, 8, 10, 12, 14, 16, 18]\n"
     ]
    }
   ],
   "source": [
    "# range works with start, end and step again\n",
    "# Range is an object, an iterable - list creates lists from iterables,\n",
    "# for iterates over iterables\n",
    "print(list(range(0,20,2)))"
   ]
  },
  {
   "cell_type": "code",
   "execution_count": 22,
   "metadata": {
    "collapsed": false
   },
   "outputs": [
    {
     "name": "stdout",
     "output_type": "stream",
     "text": [
      "2 is a prime number\n",
      "3 is a prime number\n",
      "4 equals 2 * 2\n",
      "5 is a prime number\n",
      "6 equals 2 * 3\n",
      "7 is a prime number\n",
      "8 equals 2 * 4\n",
      "9 equals 3 * 3\n"
     ]
    }
   ],
   "source": [
    "# break, continue, pass are self explanatory\n",
    "# except 'for' can have 'else' O_O\n",
    "# It works like else in try i.e. when no break occurs\n",
    "# How cool is that!\n",
    "\n",
    "for n in range(2,10):\n",
    "    for x in range(2,n):\n",
    "        if n % x == 0:\n",
    "            print('%d equals %d * %d' %(n,x,n//x))\n",
    "            break\n",
    "    else:\n",
    "        print('%d is a prime number' %n)"
   ]
  },
  {
   "cell_type": "markdown",
   "metadata": {},
   "source": [
    "## Welcome to functions"
   ]
  },
  {
   "cell_type": "code",
   "execution_count": 23,
   "metadata": {
    "collapsed": false
   },
   "outputs": [
    {
     "name": "stdout",
     "output_type": "stream",
     "text": [
      "0 1 1 2 3 5 8 13 \n",
      "0\n",
      "1\n",
      "[0, 1, 1, 2, 3, 5, 8, 13, 21, 34, 55] 11\n",
      "55\n"
     ]
    }
   ],
   "source": [
    "\n",
    "def fibo(n):\n",
    "    '''n is the boundary here'''\n",
    "    a, b = 0, 1\n",
    "    while a<n:\n",
    "        print(a, end=' ')\n",
    "        a,b= b, a+b\n",
    "    print()\n",
    "    \n",
    "fibo(20)\n",
    "\n",
    "def fibo_optimized(n):\n",
    "    '''n is the number of terms here with n = 0 return 0 as the 0th term'''\n",
    "    fibo = [0,1]\n",
    "    if n < 2:\n",
    "        return fibo[n]\n",
    "    else:\n",
    "        for i in range(n-1):\n",
    "            fibo.append(fibo[i]+fibo[i+1])\n",
    "    print(fibo, len(fibo))\n",
    "    return fibo[n]\n",
    "\n",
    "# Also, rename functions like a boss\n",
    "\n",
    "g = fibo_optimized\n",
    "print(fibo_optimized(0))\n",
    "print(fibo_optimized(1))\n",
    "print(g(10))\n"
   ]
  },
  {
   "cell_type": "code",
   "execution_count": 26,
   "metadata": {
    "collapsed": false
   },
   "outputs": [
    {
     "name": "stdout",
     "output_type": "stream",
     "text": [
      "Do you really want to quit?N\n",
      "Yes or no, please!\n",
      "Do you really want to quit?NO\n",
      "Yes or no, please!\n",
      "Do you really want to quit?NO!!!!\n",
      "Yes or no, please!\n",
      "Do you really want to quit?no\n",
      "False\n",
      "Overwrite file?YES\n",
      "Yes or no, please!\n",
      "Overwrite file?Y\n",
      "Yes or no, please!\n",
      "Overwrite file?y\n",
      "True\n",
      "Overwrite file again?NOOO\n",
      "Only yes or no for Asimov's sake!\n",
      "Overwrite file again?Nein!\n",
      "Only yes or no for Asimov's sake!\n",
      "Overwrite file again?n\n",
      "False\n"
     ]
    }
   ],
   "source": [
    "# Default args? \n",
    "\n",
    "def ask_ok(prompt, retries=4, complaint='Yes or no, please!'):\n",
    "    while True:\n",
    "        ok = input(prompt)\n",
    "        if ok in ('y', 'ye', 'yes'):\n",
    "            return True\n",
    "        if ok in ('n', 'no', 'nop', 'nope'):\n",
    "            return False\n",
    "        retries = retries - 1\n",
    "        if retries < 0:\n",
    "            raise OSError('uncooperative user')\n",
    "        print(complaint)\n",
    "        \n",
    "print(ask_ok('Do you really want to quit?'))\n",
    "print(ask_ok('Overwrite file?',2))\n",
    "print(ask_ok('Overwrite file again?', 2 , \"Only yes or no for Asimov's sake!\"))"
   ]
  },
  {
   "cell_type": "code",
   "execution_count": 31,
   "metadata": {
    "collapsed": false
   },
   "outputs": [
    {
     "name": "stdout",
     "output_type": "stream",
     "text": [
      "The test_arg: a man\n",
      "The args\n",
      "1\n",
      "2\n",
      "3\n",
      "4\n",
      "5\n",
      "The key word args\n",
      "they : Third person plural\n",
      "me : Arjunil\n",
      "you : Second person\n"
     ]
    }
   ],
   "source": [
    "# Welcome the args and kwargs - variable length args and key word args\n",
    "# args go into a tuple\n",
    "# kwargs into dict\n",
    "\n",
    "def args_vs_kwargs(test_arg, *args, **kwargs) :\n",
    "    print('The test_arg:', test_arg)\n",
    "    print('The args')\n",
    "    for arg in args:\n",
    "        print(arg)\n",
    "    print('The key word args')\n",
    "    for key, val in kwargs.items():\n",
    "        print(key + ' : ' + val)\n",
    "        \n",
    "args_vs_kwargs('a man', 1,2,3,4,5, me='Arjunil', you='Second person', they='Third person plural')\n"
   ]
  },
  {
   "cell_type": "code",
   "execution_count": 36,
   "metadata": {
    "collapsed": false
   },
   "outputs": [
    {
     "name": "stdout",
     "output_type": "stream",
     "text": [
      "[3, 4, 5, 6, 7, 8, 9]\n"
     ]
    }
   ],
   "source": [
    "# Unpacking args ?\n",
    "\n",
    "args = [3,10]\n",
    "#range(args) # errors out\n",
    "\n",
    "print(list(range(*args))) # unpacks and hence works\n"
   ]
  },
  {
   "cell_type": "code",
   "execution_count": 39,
   "metadata": {
    "collapsed": false
   },
   "outputs": [
    {
     "name": "stdout",
     "output_type": "stream",
     "text": [
      "This parrot wouldn't VOOM if you put four million volts through it. E's bleedin' demised !\n"
     ]
    }
   ],
   "source": [
    "# Unpacking kwargs also works\n",
    "\n",
    "def parrot(voltage, action='voom', state='a stiff'):\n",
    "    print(\"This parrot wouldn't\", action, end=' ')\n",
    "    print(\"if you put\", voltage, \"volts through it.\", end=' ')\n",
    "    print(\"E's\", state, \"!\")\n",
    "d = {\"voltage\": \"four million\", \"state\": \"bleedin' demised\", \"action\": \"VOOM\"}\n",
    "parrot(**d)\n"
   ]
  },
  {
   "cell_type": "markdown",
   "metadata": {},
   "source": [
    "# Lambda expressions"
   ]
  },
  {
   "cell_type": "code",
   "execution_count": null,
   "metadata": {
    "collapsed": true
   },
   "outputs": [],
   "source": []
  }
 ],
 "metadata": {
  "kernelspec": {
   "display_name": "Python 3",
   "language": "python",
   "name": "python3"
  },
  "language_info": {
   "codemirror_mode": {
    "name": "ipython",
    "version": 3
   },
   "file_extension": ".py",
   "mimetype": "text/x-python",
   "name": "python",
   "nbconvert_exporter": "python",
   "pygments_lexer": "ipython3",
   "version": "3.5.1"
  }
 },
 "nbformat": 4,
 "nbformat_minor": 0
}
